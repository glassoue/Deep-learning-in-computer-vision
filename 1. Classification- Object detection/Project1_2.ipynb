{
  "nbformat": 4,
  "nbformat_minor": 0,
  "metadata": {
    "colab": {
      "name": "Copy of version2 BoundingBox.ipynb",
      "provenance": [],
      "collapsed_sections": [
        "sllID4npk-uW",
        "KhfDnwcFensN",
        "EBV8ln_eRumv",
        "j4swcP7YR10E"
      ]
    },
    "kernelspec": {
      "name": "python3",
      "display_name": "Python 3"
    },
    "accelerator": "GPU",
    "widgets": {
      "application/vnd.jupyter.widget-state+json": {
        "e9aa39a2b6fe4381a80ac164852ff057": {
          "model_module": "@jupyter-widgets/controls",
          "model_name": "HBoxModel",
          "state": {
            "_view_name": "HBoxView",
            "_dom_classes": [],
            "_model_name": "HBoxModel",
            "_view_module": "@jupyter-widgets/controls",
            "_model_module_version": "1.5.0",
            "_view_count": null,
            "_view_module_version": "1.5.0",
            "box_style": "",
            "layout": "IPY_MODEL_31c54e0a94064520a09af64eba299b48",
            "_model_module": "@jupyter-widgets/controls",
            "children": [
              "IPY_MODEL_2cc0d6a09cba4aa1b0b87b57f7b964b7",
              "IPY_MODEL_7ff5e85f1d1f4f9a8f6cc3f99215521d"
            ]
          }
        },
        "31c54e0a94064520a09af64eba299b48": {
          "model_module": "@jupyter-widgets/base",
          "model_name": "LayoutModel",
          "state": {
            "_view_name": "LayoutView",
            "grid_template_rows": null,
            "right": null,
            "justify_content": null,
            "_view_module": "@jupyter-widgets/base",
            "overflow": null,
            "_model_module_version": "1.2.0",
            "_view_count": null,
            "flex_flow": null,
            "width": null,
            "min_width": null,
            "border": null,
            "align_items": null,
            "bottom": null,
            "_model_module": "@jupyter-widgets/base",
            "top": null,
            "grid_column": null,
            "overflow_y": null,
            "overflow_x": null,
            "grid_auto_flow": null,
            "grid_area": null,
            "grid_template_columns": null,
            "flex": null,
            "_model_name": "LayoutModel",
            "justify_items": null,
            "grid_row": null,
            "max_height": null,
            "align_content": null,
            "visibility": null,
            "align_self": null,
            "height": null,
            "min_height": null,
            "padding": null,
            "grid_auto_rows": null,
            "grid_gap": null,
            "max_width": null,
            "order": null,
            "_view_module_version": "1.2.0",
            "grid_template_areas": null,
            "object_position": null,
            "object_fit": null,
            "grid_auto_columns": null,
            "margin": null,
            "display": null,
            "left": null
          }
        },
        "2cc0d6a09cba4aa1b0b87b57f7b964b7": {
          "model_module": "@jupyter-widgets/controls",
          "model_name": "FloatProgressModel",
          "state": {
            "_view_name": "ProgressView",
            "style": "IPY_MODEL_fd7aaf8a18a0481eaefadc9157aa3cd5",
            "_dom_classes": [],
            "description": "",
            "_model_name": "FloatProgressModel",
            "bar_style": "info",
            "max": 1,
            "_view_module": "@jupyter-widgets/controls",
            "_model_module_version": "1.5.0",
            "value": 1,
            "_view_count": null,
            "_view_module_version": "1.5.0",
            "orientation": "horizontal",
            "min": 0,
            "description_tooltip": null,
            "_model_module": "@jupyter-widgets/controls",
            "layout": "IPY_MODEL_0d2e3d5923e74a9e8a404591aff99ba7"
          }
        },
        "7ff5e85f1d1f4f9a8f6cc3f99215521d": {
          "model_module": "@jupyter-widgets/controls",
          "model_name": "HTMLModel",
          "state": {
            "_view_name": "HTMLView",
            "style": "IPY_MODEL_275affd75c4a45e09c750d9217339cd9",
            "_dom_classes": [],
            "description": "",
            "_model_name": "HTMLModel",
            "placeholder": "​",
            "_view_module": "@jupyter-widgets/controls",
            "_model_module_version": "1.5.0",
            "value": " 182042624/? [00:30&lt;00:00, 16295526.87it/s]",
            "_view_count": null,
            "_view_module_version": "1.5.0",
            "description_tooltip": null,
            "_model_module": "@jupyter-widgets/controls",
            "layout": "IPY_MODEL_0ef9cb3a70414368a87b87e4413101ed"
          }
        },
        "fd7aaf8a18a0481eaefadc9157aa3cd5": {
          "model_module": "@jupyter-widgets/controls",
          "model_name": "ProgressStyleModel",
          "state": {
            "_view_name": "StyleView",
            "_model_name": "ProgressStyleModel",
            "description_width": "initial",
            "_view_module": "@jupyter-widgets/base",
            "_model_module_version": "1.5.0",
            "_view_count": null,
            "_view_module_version": "1.2.0",
            "bar_color": null,
            "_model_module": "@jupyter-widgets/controls"
          }
        },
        "0d2e3d5923e74a9e8a404591aff99ba7": {
          "model_module": "@jupyter-widgets/base",
          "model_name": "LayoutModel",
          "state": {
            "_view_name": "LayoutView",
            "grid_template_rows": null,
            "right": null,
            "justify_content": null,
            "_view_module": "@jupyter-widgets/base",
            "overflow": null,
            "_model_module_version": "1.2.0",
            "_view_count": null,
            "flex_flow": null,
            "width": null,
            "min_width": null,
            "border": null,
            "align_items": null,
            "bottom": null,
            "_model_module": "@jupyter-widgets/base",
            "top": null,
            "grid_column": null,
            "overflow_y": null,
            "overflow_x": null,
            "grid_auto_flow": null,
            "grid_area": null,
            "grid_template_columns": null,
            "flex": null,
            "_model_name": "LayoutModel",
            "justify_items": null,
            "grid_row": null,
            "max_height": null,
            "align_content": null,
            "visibility": null,
            "align_self": null,
            "height": null,
            "min_height": null,
            "padding": null,
            "grid_auto_rows": null,
            "grid_gap": null,
            "max_width": null,
            "order": null,
            "_view_module_version": "1.2.0",
            "grid_template_areas": null,
            "object_position": null,
            "object_fit": null,
            "grid_auto_columns": null,
            "margin": null,
            "display": null,
            "left": null
          }
        },
        "275affd75c4a45e09c750d9217339cd9": {
          "model_module": "@jupyter-widgets/controls",
          "model_name": "DescriptionStyleModel",
          "state": {
            "_view_name": "StyleView",
            "_model_name": "DescriptionStyleModel",
            "description_width": "",
            "_view_module": "@jupyter-widgets/base",
            "_model_module_version": "1.5.0",
            "_view_count": null,
            "_view_module_version": "1.2.0",
            "_model_module": "@jupyter-widgets/controls"
          }
        },
        "0ef9cb3a70414368a87b87e4413101ed": {
          "model_module": "@jupyter-widgets/base",
          "model_name": "LayoutModel",
          "state": {
            "_view_name": "LayoutView",
            "grid_template_rows": null,
            "right": null,
            "justify_content": null,
            "_view_module": "@jupyter-widgets/base",
            "overflow": null,
            "_model_module_version": "1.2.0",
            "_view_count": null,
            "flex_flow": null,
            "width": null,
            "min_width": null,
            "border": null,
            "align_items": null,
            "bottom": null,
            "_model_module": "@jupyter-widgets/base",
            "top": null,
            "grid_column": null,
            "overflow_y": null,
            "overflow_x": null,
            "grid_auto_flow": null,
            "grid_area": null,
            "grid_template_columns": null,
            "flex": null,
            "_model_name": "LayoutModel",
            "justify_items": null,
            "grid_row": null,
            "max_height": null,
            "align_content": null,
            "visibility": null,
            "align_self": null,
            "height": null,
            "min_height": null,
            "padding": null,
            "grid_auto_rows": null,
            "grid_gap": null,
            "max_width": null,
            "order": null,
            "_view_module_version": "1.2.0",
            "grid_template_areas": null,
            "object_position": null,
            "object_fit": null,
            "grid_auto_columns": null,
            "margin": null,
            "display": null,
            "left": null
          }
        },
        "a7a8e972557f4300af0bc15f61220d38": {
          "model_module": "@jupyter-widgets/controls",
          "model_name": "HBoxModel",
          "state": {
            "_view_name": "HBoxView",
            "_dom_classes": [],
            "_model_name": "HBoxModel",
            "_view_module": "@jupyter-widgets/controls",
            "_model_module_version": "1.5.0",
            "_view_count": null,
            "_view_module_version": "1.5.0",
            "box_style": "",
            "layout": "IPY_MODEL_1073476e7d0f404788c6ad3a39c5f96c",
            "_model_module": "@jupyter-widgets/controls",
            "children": [
              "IPY_MODEL_a8a66a55ad41469988416ca4f863cf52",
              "IPY_MODEL_82e66b52bc0d4006b0371361362bcb64"
            ]
          }
        },
        "1073476e7d0f404788c6ad3a39c5f96c": {
          "model_module": "@jupyter-widgets/base",
          "model_name": "LayoutModel",
          "state": {
            "_view_name": "LayoutView",
            "grid_template_rows": null,
            "right": null,
            "justify_content": null,
            "_view_module": "@jupyter-widgets/base",
            "overflow": null,
            "_model_module_version": "1.2.0",
            "_view_count": null,
            "flex_flow": null,
            "width": null,
            "min_width": null,
            "border": null,
            "align_items": null,
            "bottom": null,
            "_model_module": "@jupyter-widgets/base",
            "top": null,
            "grid_column": null,
            "overflow_y": null,
            "overflow_x": null,
            "grid_auto_flow": null,
            "grid_area": null,
            "grid_template_columns": null,
            "flex": null,
            "_model_name": "LayoutModel",
            "justify_items": null,
            "grid_row": null,
            "max_height": null,
            "align_content": null,
            "visibility": null,
            "align_self": null,
            "height": null,
            "min_height": null,
            "padding": null,
            "grid_auto_rows": null,
            "grid_gap": null,
            "max_width": null,
            "order": null,
            "_view_module_version": "1.2.0",
            "grid_template_areas": null,
            "object_position": null,
            "object_fit": null,
            "grid_auto_columns": null,
            "margin": null,
            "display": null,
            "left": null
          }
        },
        "a8a66a55ad41469988416ca4f863cf52": {
          "model_module": "@jupyter-widgets/controls",
          "model_name": "FloatProgressModel",
          "state": {
            "_view_name": "ProgressView",
            "style": "IPY_MODEL_786a097ff85243299b7aeab537345dd2",
            "_dom_classes": [],
            "description": "",
            "_model_name": "FloatProgressModel",
            "bar_style": "info",
            "max": 1,
            "_view_module": "@jupyter-widgets/controls",
            "_model_module_version": "1.5.0",
            "value": 1,
            "_view_count": null,
            "_view_module_version": "1.5.0",
            "orientation": "horizontal",
            "min": 0,
            "description_tooltip": null,
            "_model_module": "@jupyter-widgets/controls",
            "layout": "IPY_MODEL_e851a77756924451b0f958b62e93a6bd"
          }
        },
        "82e66b52bc0d4006b0371361362bcb64": {
          "model_module": "@jupyter-widgets/controls",
          "model_name": "HTMLModel",
          "state": {
            "_view_name": "HTMLView",
            "style": "IPY_MODEL_181c27bb6fae4b6e8e73288a3409a7ef",
            "_dom_classes": [],
            "description": "",
            "_model_name": "HTMLModel",
            "placeholder": "​",
            "_view_module": "@jupyter-widgets/controls",
            "_model_module_version": "1.5.0",
            "value": " 170500096/? [00:31&lt;00:00, 14801210.94it/s]",
            "_view_count": null,
            "_view_module_version": "1.5.0",
            "description_tooltip": null,
            "_model_module": "@jupyter-widgets/controls",
            "layout": "IPY_MODEL_7a164eb9868f4d4d90375b273ab41489"
          }
        },
        "786a097ff85243299b7aeab537345dd2": {
          "model_module": "@jupyter-widgets/controls",
          "model_name": "ProgressStyleModel",
          "state": {
            "_view_name": "StyleView",
            "_model_name": "ProgressStyleModel",
            "description_width": "initial",
            "_view_module": "@jupyter-widgets/base",
            "_model_module_version": "1.5.0",
            "_view_count": null,
            "_view_module_version": "1.2.0",
            "bar_color": null,
            "_model_module": "@jupyter-widgets/controls"
          }
        },
        "e851a77756924451b0f958b62e93a6bd": {
          "model_module": "@jupyter-widgets/base",
          "model_name": "LayoutModel",
          "state": {
            "_view_name": "LayoutView",
            "grid_template_rows": null,
            "right": null,
            "justify_content": null,
            "_view_module": "@jupyter-widgets/base",
            "overflow": null,
            "_model_module_version": "1.2.0",
            "_view_count": null,
            "flex_flow": null,
            "width": null,
            "min_width": null,
            "border": null,
            "align_items": null,
            "bottom": null,
            "_model_module": "@jupyter-widgets/base",
            "top": null,
            "grid_column": null,
            "overflow_y": null,
            "overflow_x": null,
            "grid_auto_flow": null,
            "grid_area": null,
            "grid_template_columns": null,
            "flex": null,
            "_model_name": "LayoutModel",
            "justify_items": null,
            "grid_row": null,
            "max_height": null,
            "align_content": null,
            "visibility": null,
            "align_self": null,
            "height": null,
            "min_height": null,
            "padding": null,
            "grid_auto_rows": null,
            "grid_gap": null,
            "max_width": null,
            "order": null,
            "_view_module_version": "1.2.0",
            "grid_template_areas": null,
            "object_position": null,
            "object_fit": null,
            "grid_auto_columns": null,
            "margin": null,
            "display": null,
            "left": null
          }
        },
        "181c27bb6fae4b6e8e73288a3409a7ef": {
          "model_module": "@jupyter-widgets/controls",
          "model_name": "DescriptionStyleModel",
          "state": {
            "_view_name": "StyleView",
            "_model_name": "DescriptionStyleModel",
            "description_width": "",
            "_view_module": "@jupyter-widgets/base",
            "_model_module_version": "1.5.0",
            "_view_count": null,
            "_view_module_version": "1.2.0",
            "_model_module": "@jupyter-widgets/controls"
          }
        },
        "7a164eb9868f4d4d90375b273ab41489": {
          "model_module": "@jupyter-widgets/base",
          "model_name": "LayoutModel",
          "state": {
            "_view_name": "LayoutView",
            "grid_template_rows": null,
            "right": null,
            "justify_content": null,
            "_view_module": "@jupyter-widgets/base",
            "overflow": null,
            "_model_module_version": "1.2.0",
            "_view_count": null,
            "flex_flow": null,
            "width": null,
            "min_width": null,
            "border": null,
            "align_items": null,
            "bottom": null,
            "_model_module": "@jupyter-widgets/base",
            "top": null,
            "grid_column": null,
            "overflow_y": null,
            "overflow_x": null,
            "grid_auto_flow": null,
            "grid_area": null,
            "grid_template_columns": null,
            "flex": null,
            "_model_name": "LayoutModel",
            "justify_items": null,
            "grid_row": null,
            "max_height": null,
            "align_content": null,
            "visibility": null,
            "align_self": null,
            "height": null,
            "min_height": null,
            "padding": null,
            "grid_auto_rows": null,
            "grid_gap": null,
            "max_width": null,
            "order": null,
            "_view_module_version": "1.2.0",
            "grid_template_areas": null,
            "object_position": null,
            "object_fit": null,
            "grid_auto_columns": null,
            "margin": null,
            "display": null,
            "left": null
          }
        },
        "44d2a69fea064c97b4e0ea473a8a6799": {
          "model_module": "@jupyter-widgets/controls",
          "model_name": "HBoxModel",
          "state": {
            "_view_name": "HBoxView",
            "_dom_classes": [],
            "_model_name": "HBoxModel",
            "_view_module": "@jupyter-widgets/controls",
            "_model_module_version": "1.5.0",
            "_view_count": null,
            "_view_module_version": "1.5.0",
            "box_style": "",
            "layout": "IPY_MODEL_7f90fb643b3f4f94a65b9cc93724f04c",
            "_model_module": "@jupyter-widgets/controls",
            "children": [
              "IPY_MODEL_7abe5386d2434af3903ce5595f15c85e",
              "IPY_MODEL_f395017571b54a06890b3af17239b489"
            ]
          }
        },
        "7f90fb643b3f4f94a65b9cc93724f04c": {
          "model_module": "@jupyter-widgets/base",
          "model_name": "LayoutModel",
          "state": {
            "_view_name": "LayoutView",
            "grid_template_rows": null,
            "right": null,
            "justify_content": null,
            "_view_module": "@jupyter-widgets/base",
            "overflow": null,
            "_model_module_version": "1.2.0",
            "_view_count": null,
            "flex_flow": null,
            "width": null,
            "min_width": null,
            "border": null,
            "align_items": null,
            "bottom": null,
            "_model_module": "@jupyter-widgets/base",
            "top": null,
            "grid_column": null,
            "overflow_y": null,
            "overflow_x": null,
            "grid_auto_flow": null,
            "grid_area": null,
            "grid_template_columns": null,
            "flex": null,
            "_model_name": "LayoutModel",
            "justify_items": null,
            "grid_row": null,
            "max_height": null,
            "align_content": null,
            "visibility": null,
            "align_self": null,
            "height": null,
            "min_height": null,
            "padding": null,
            "grid_auto_rows": null,
            "grid_gap": null,
            "max_width": null,
            "order": null,
            "_view_module_version": "1.2.0",
            "grid_template_areas": null,
            "object_position": null,
            "object_fit": null,
            "grid_auto_columns": null,
            "margin": null,
            "display": null,
            "left": null
          }
        },
        "7abe5386d2434af3903ce5595f15c85e": {
          "model_module": "@jupyter-widgets/controls",
          "model_name": "FloatProgressModel",
          "state": {
            "_view_name": "ProgressView",
            "style": "IPY_MODEL_588a0341aaa74e3ebb43cd50ef4dcce5",
            "_dom_classes": [],
            "description": "",
            "_model_name": "FloatProgressModel",
            "bar_style": "info",
            "max": 1,
            "_view_module": "@jupyter-widgets/controls",
            "_model_module_version": "1.5.0",
            "value": 1,
            "_view_count": null,
            "_view_module_version": "1.5.0",
            "orientation": "horizontal",
            "min": 0,
            "description_tooltip": null,
            "_model_module": "@jupyter-widgets/controls",
            "layout": "IPY_MODEL_2694cb8fe3bc43fe97ded943bbe9b836"
          }
        },
        "f395017571b54a06890b3af17239b489": {
          "model_module": "@jupyter-widgets/controls",
          "model_name": "HTMLModel",
          "state": {
            "_view_name": "HTMLView",
            "style": "IPY_MODEL_0fd6ec03ca5649129cf09ecc5cea30a6",
            "_dom_classes": [],
            "description": "",
            "_model_name": "HTMLModel",
            "placeholder": "​",
            "_view_module": "@jupyter-widgets/controls",
            "_model_module_version": "1.5.0",
            "value": " 64282624/? [00:25&lt;00:00, 16031449.59it/s]",
            "_view_count": null,
            "_view_module_version": "1.5.0",
            "description_tooltip": null,
            "_model_module": "@jupyter-widgets/controls",
            "layout": "IPY_MODEL_63d5ab541e98463bb97ec1ab118df57e"
          }
        },
        "588a0341aaa74e3ebb43cd50ef4dcce5": {
          "model_module": "@jupyter-widgets/controls",
          "model_name": "ProgressStyleModel",
          "state": {
            "_view_name": "StyleView",
            "_model_name": "ProgressStyleModel",
            "description_width": "initial",
            "_view_module": "@jupyter-widgets/base",
            "_model_module_version": "1.5.0",
            "_view_count": null,
            "_view_module_version": "1.2.0",
            "bar_color": null,
            "_model_module": "@jupyter-widgets/controls"
          }
        },
        "2694cb8fe3bc43fe97ded943bbe9b836": {
          "model_module": "@jupyter-widgets/base",
          "model_name": "LayoutModel",
          "state": {
            "_view_name": "LayoutView",
            "grid_template_rows": null,
            "right": null,
            "justify_content": null,
            "_view_module": "@jupyter-widgets/base",
            "overflow": null,
            "_model_module_version": "1.2.0",
            "_view_count": null,
            "flex_flow": null,
            "width": null,
            "min_width": null,
            "border": null,
            "align_items": null,
            "bottom": null,
            "_model_module": "@jupyter-widgets/base",
            "top": null,
            "grid_column": null,
            "overflow_y": null,
            "overflow_x": null,
            "grid_auto_flow": null,
            "grid_area": null,
            "grid_template_columns": null,
            "flex": null,
            "_model_name": "LayoutModel",
            "justify_items": null,
            "grid_row": null,
            "max_height": null,
            "align_content": null,
            "visibility": null,
            "align_self": null,
            "height": null,
            "min_height": null,
            "padding": null,
            "grid_auto_rows": null,
            "grid_gap": null,
            "max_width": null,
            "order": null,
            "_view_module_version": "1.2.0",
            "grid_template_areas": null,
            "object_position": null,
            "object_fit": null,
            "grid_auto_columns": null,
            "margin": null,
            "display": null,
            "left": null
          }
        },
        "0fd6ec03ca5649129cf09ecc5cea30a6": {
          "model_module": "@jupyter-widgets/controls",
          "model_name": "DescriptionStyleModel",
          "state": {
            "_view_name": "StyleView",
            "_model_name": "DescriptionStyleModel",
            "description_width": "",
            "_view_module": "@jupyter-widgets/base",
            "_model_module_version": "1.5.0",
            "_view_count": null,
            "_view_module_version": "1.2.0",
            "_model_module": "@jupyter-widgets/controls"
          }
        },
        "63d5ab541e98463bb97ec1ab118df57e": {
          "model_module": "@jupyter-widgets/base",
          "model_name": "LayoutModel",
          "state": {
            "_view_name": "LayoutView",
            "grid_template_rows": null,
            "right": null,
            "justify_content": null,
            "_view_module": "@jupyter-widgets/base",
            "overflow": null,
            "_model_module_version": "1.2.0",
            "_view_count": null,
            "flex_flow": null,
            "width": null,
            "min_width": null,
            "border": null,
            "align_items": null,
            "bottom": null,
            "_model_module": "@jupyter-widgets/base",
            "top": null,
            "grid_column": null,
            "overflow_y": null,
            "overflow_x": null,
            "grid_auto_flow": null,
            "grid_area": null,
            "grid_template_columns": null,
            "flex": null,
            "_model_name": "LayoutModel",
            "justify_items": null,
            "grid_row": null,
            "max_height": null,
            "align_content": null,
            "visibility": null,
            "align_self": null,
            "height": null,
            "min_height": null,
            "padding": null,
            "grid_auto_rows": null,
            "grid_gap": null,
            "max_width": null,
            "order": null,
            "_view_module_version": "1.2.0",
            "grid_template_areas": null,
            "object_position": null,
            "object_fit": null,
            "grid_auto_columns": null,
            "margin": null,
            "display": null,
            "left": null
          }
        },
        "0134faaa7bc64433832290e160407739": {
          "model_module": "@jupyter-widgets/controls",
          "model_name": "HBoxModel",
          "state": {
            "_view_name": "HBoxView",
            "_dom_classes": [],
            "_model_name": "HBoxModel",
            "_view_module": "@jupyter-widgets/controls",
            "_model_module_version": "1.5.0",
            "_view_count": null,
            "_view_module_version": "1.5.0",
            "box_style": "",
            "layout": "IPY_MODEL_d9bdbfb7072041bd9a7dc8bc3489a66f",
            "_model_module": "@jupyter-widgets/controls",
            "children": [
              "IPY_MODEL_c236e5998ce24fa197ae25fe79a55a1e",
              "IPY_MODEL_92d7f6298475477298d6e12ca189f622"
            ]
          }
        },
        "d9bdbfb7072041bd9a7dc8bc3489a66f": {
          "model_module": "@jupyter-widgets/base",
          "model_name": "LayoutModel",
          "state": {
            "_view_name": "LayoutView",
            "grid_template_rows": null,
            "right": null,
            "justify_content": null,
            "_view_module": "@jupyter-widgets/base",
            "overflow": null,
            "_model_module_version": "1.2.0",
            "_view_count": null,
            "flex_flow": null,
            "width": null,
            "min_width": null,
            "border": null,
            "align_items": null,
            "bottom": null,
            "_model_module": "@jupyter-widgets/base",
            "top": null,
            "grid_column": null,
            "overflow_y": null,
            "overflow_x": null,
            "grid_auto_flow": null,
            "grid_area": null,
            "grid_template_columns": null,
            "flex": null,
            "_model_name": "LayoutModel",
            "justify_items": null,
            "grid_row": null,
            "max_height": null,
            "align_content": null,
            "visibility": null,
            "align_self": null,
            "height": null,
            "min_height": null,
            "padding": null,
            "grid_auto_rows": null,
            "grid_gap": null,
            "max_width": null,
            "order": null,
            "_view_module_version": "1.2.0",
            "grid_template_areas": null,
            "object_position": null,
            "object_fit": null,
            "grid_auto_columns": null,
            "margin": null,
            "display": null,
            "left": null
          }
        },
        "c236e5998ce24fa197ae25fe79a55a1e": {
          "model_module": "@jupyter-widgets/controls",
          "model_name": "FloatProgressModel",
          "state": {
            "_view_name": "ProgressView",
            "style": "IPY_MODEL_59acf3f2772b4baaa22933e83dd892ea",
            "_dom_classes": [],
            "description": "100%",
            "_model_name": "FloatProgressModel",
            "bar_style": "success",
            "max": 5,
            "_view_module": "@jupyter-widgets/controls",
            "_model_module_version": "1.5.0",
            "value": 5,
            "_view_count": null,
            "_view_module_version": "1.5.0",
            "orientation": "horizontal",
            "min": 0,
            "description_tooltip": null,
            "_model_module": "@jupyter-widgets/controls",
            "layout": "IPY_MODEL_5a712382659e42319ebb6c1432ce6df0"
          }
        },
        "92d7f6298475477298d6e12ca189f622": {
          "model_module": "@jupyter-widgets/controls",
          "model_name": "HTMLModel",
          "state": {
            "_view_name": "HTMLView",
            "style": "IPY_MODEL_ce8ae89a23e64d698be90704ba243ad6",
            "_dom_classes": [],
            "description": "",
            "_model_name": "HTMLModel",
            "placeholder": "​",
            "_view_module": "@jupyter-widgets/controls",
            "_model_module_version": "1.5.0",
            "value": " 5/5 [03:12&lt;00:00, 38.45s/epoch]",
            "_view_count": null,
            "_view_module_version": "1.5.0",
            "description_tooltip": null,
            "_model_module": "@jupyter-widgets/controls",
            "layout": "IPY_MODEL_c5ab0eafc9d649988b1872e4c7f60d5d"
          }
        },
        "59acf3f2772b4baaa22933e83dd892ea": {
          "model_module": "@jupyter-widgets/controls",
          "model_name": "ProgressStyleModel",
          "state": {
            "_view_name": "StyleView",
            "_model_name": "ProgressStyleModel",
            "description_width": "initial",
            "_view_module": "@jupyter-widgets/base",
            "_model_module_version": "1.5.0",
            "_view_count": null,
            "_view_module_version": "1.2.0",
            "bar_color": null,
            "_model_module": "@jupyter-widgets/controls"
          }
        },
        "5a712382659e42319ebb6c1432ce6df0": {
          "model_module": "@jupyter-widgets/base",
          "model_name": "LayoutModel",
          "state": {
            "_view_name": "LayoutView",
            "grid_template_rows": null,
            "right": null,
            "justify_content": null,
            "_view_module": "@jupyter-widgets/base",
            "overflow": null,
            "_model_module_version": "1.2.0",
            "_view_count": null,
            "flex_flow": null,
            "width": null,
            "min_width": null,
            "border": null,
            "align_items": null,
            "bottom": null,
            "_model_module": "@jupyter-widgets/base",
            "top": null,
            "grid_column": null,
            "overflow_y": null,
            "overflow_x": null,
            "grid_auto_flow": null,
            "grid_area": null,
            "grid_template_columns": null,
            "flex": null,
            "_model_name": "LayoutModel",
            "justify_items": null,
            "grid_row": null,
            "max_height": null,
            "align_content": null,
            "visibility": null,
            "align_self": null,
            "height": null,
            "min_height": null,
            "padding": null,
            "grid_auto_rows": null,
            "grid_gap": null,
            "max_width": null,
            "order": null,
            "_view_module_version": "1.2.0",
            "grid_template_areas": null,
            "object_position": null,
            "object_fit": null,
            "grid_auto_columns": null,
            "margin": null,
            "display": null,
            "left": null
          }
        },
        "ce8ae89a23e64d698be90704ba243ad6": {
          "model_module": "@jupyter-widgets/controls",
          "model_name": "DescriptionStyleModel",
          "state": {
            "_view_name": "StyleView",
            "_model_name": "DescriptionStyleModel",
            "description_width": "",
            "_view_module": "@jupyter-widgets/base",
            "_model_module_version": "1.5.0",
            "_view_count": null,
            "_view_module_version": "1.2.0",
            "_model_module": "@jupyter-widgets/controls"
          }
        },
        "c5ab0eafc9d649988b1872e4c7f60d5d": {
          "model_module": "@jupyter-widgets/base",
          "model_name": "LayoutModel",
          "state": {
            "_view_name": "LayoutView",
            "grid_template_rows": null,
            "right": null,
            "justify_content": null,
            "_view_module": "@jupyter-widgets/base",
            "overflow": null,
            "_model_module_version": "1.2.0",
            "_view_count": null,
            "flex_flow": null,
            "width": null,
            "min_width": null,
            "border": null,
            "align_items": null,
            "bottom": null,
            "_model_module": "@jupyter-widgets/base",
            "top": null,
            "grid_column": null,
            "overflow_y": null,
            "overflow_x": null,
            "grid_auto_flow": null,
            "grid_area": null,
            "grid_template_columns": null,
            "flex": null,
            "_model_name": "LayoutModel",
            "justify_items": null,
            "grid_row": null,
            "max_height": null,
            "align_content": null,
            "visibility": null,
            "align_self": null,
            "height": null,
            "min_height": null,
            "padding": null,
            "grid_auto_rows": null,
            "grid_gap": null,
            "max_width": null,
            "order": null,
            "_view_module_version": "1.2.0",
            "grid_template_areas": null,
            "object_position": null,
            "object_fit": null,
            "grid_auto_columns": null,
            "margin": null,
            "display": null,
            "left": null
          }
        },
        "21effc5510764bed8ffa684d64a695c6": {
          "model_module": "@jupyter-widgets/controls",
          "model_name": "HBoxModel",
          "state": {
            "_view_name": "HBoxView",
            "_dom_classes": [],
            "_model_name": "HBoxModel",
            "_view_module": "@jupyter-widgets/controls",
            "_model_module_version": "1.5.0",
            "_view_count": null,
            "_view_module_version": "1.5.0",
            "box_style": "",
            "layout": "IPY_MODEL_47b9f4baf223436c84220cc08c38f998",
            "_model_module": "@jupyter-widgets/controls",
            "children": [
              "IPY_MODEL_704ee8ffa2be40fdb802ac5b62372552",
              "IPY_MODEL_cd31a74cc4314c4585a6b6bf69064158"
            ]
          }
        },
        "47b9f4baf223436c84220cc08c38f998": {
          "model_module": "@jupyter-widgets/base",
          "model_name": "LayoutModel",
          "state": {
            "_view_name": "LayoutView",
            "grid_template_rows": null,
            "right": null,
            "justify_content": null,
            "_view_module": "@jupyter-widgets/base",
            "overflow": null,
            "_model_module_version": "1.2.0",
            "_view_count": null,
            "flex_flow": null,
            "width": null,
            "min_width": null,
            "border": null,
            "align_items": null,
            "bottom": null,
            "_model_module": "@jupyter-widgets/base",
            "top": null,
            "grid_column": null,
            "overflow_y": null,
            "overflow_x": null,
            "grid_auto_flow": null,
            "grid_area": null,
            "grid_template_columns": null,
            "flex": null,
            "_model_name": "LayoutModel",
            "justify_items": null,
            "grid_row": null,
            "max_height": null,
            "align_content": null,
            "visibility": null,
            "align_self": null,
            "height": null,
            "min_height": null,
            "padding": null,
            "grid_auto_rows": null,
            "grid_gap": null,
            "max_width": null,
            "order": null,
            "_view_module_version": "1.2.0",
            "grid_template_areas": null,
            "object_position": null,
            "object_fit": null,
            "grid_auto_columns": null,
            "margin": null,
            "display": null,
            "left": null
          }
        },
        "704ee8ffa2be40fdb802ac5b62372552": {
          "model_module": "@jupyter-widgets/controls",
          "model_name": "FloatProgressModel",
          "state": {
            "_view_name": "ProgressView",
            "style": "IPY_MODEL_c71f2c34d44c4e50bf0dc26497c49c83",
            "_dom_classes": [],
            "description": "100%",
            "_model_name": "FloatProgressModel",
            "bar_style": "success",
            "max": 1926,
            "_view_module": "@jupyter-widgets/controls",
            "_model_module_version": "1.5.0",
            "value": 1926,
            "_view_count": null,
            "_view_module_version": "1.5.0",
            "orientation": "horizontal",
            "min": 0,
            "description_tooltip": null,
            "_model_module": "@jupyter-widgets/controls",
            "layout": "IPY_MODEL_2111b02fc0ad45f7a58fa535dc90edaf"
          }
        },
        "cd31a74cc4314c4585a6b6bf69064158": {
          "model_module": "@jupyter-widgets/controls",
          "model_name": "HTMLModel",
          "state": {
            "_view_name": "HTMLView",
            "style": "IPY_MODEL_6fc3fec64bbe427e9aa506a18e71a050",
            "_dom_classes": [],
            "description": "",
            "_model_name": "HTMLModel",
            "placeholder": "​",
            "_view_module": "@jupyter-widgets/controls",
            "_model_module_version": "1.5.0",
            "value": " 1926/1926 [03:12&lt;00:00, 10.02it/s]",
            "_view_count": null,
            "_view_module_version": "1.5.0",
            "description_tooltip": null,
            "_model_module": "@jupyter-widgets/controls",
            "layout": "IPY_MODEL_f85ea3dceb724d66881e2a3f211f0534"
          }
        },
        "c71f2c34d44c4e50bf0dc26497c49c83": {
          "model_module": "@jupyter-widgets/controls",
          "model_name": "ProgressStyleModel",
          "state": {
            "_view_name": "StyleView",
            "_model_name": "ProgressStyleModel",
            "description_width": "initial",
            "_view_module": "@jupyter-widgets/base",
            "_model_module_version": "1.5.0",
            "_view_count": null,
            "_view_module_version": "1.2.0",
            "bar_color": null,
            "_model_module": "@jupyter-widgets/controls"
          }
        },
        "2111b02fc0ad45f7a58fa535dc90edaf": {
          "model_module": "@jupyter-widgets/base",
          "model_name": "LayoutModel",
          "state": {
            "_view_name": "LayoutView",
            "grid_template_rows": null,
            "right": null,
            "justify_content": null,
            "_view_module": "@jupyter-widgets/base",
            "overflow": null,
            "_model_module_version": "1.2.0",
            "_view_count": null,
            "flex_flow": null,
            "width": null,
            "min_width": null,
            "border": null,
            "align_items": null,
            "bottom": null,
            "_model_module": "@jupyter-widgets/base",
            "top": null,
            "grid_column": null,
            "overflow_y": null,
            "overflow_x": null,
            "grid_auto_flow": null,
            "grid_area": null,
            "grid_template_columns": null,
            "flex": null,
            "_model_name": "LayoutModel",
            "justify_items": null,
            "grid_row": null,
            "max_height": null,
            "align_content": null,
            "visibility": null,
            "align_self": null,
            "height": null,
            "min_height": null,
            "padding": null,
            "grid_auto_rows": null,
            "grid_gap": null,
            "max_width": null,
            "order": null,
            "_view_module_version": "1.2.0",
            "grid_template_areas": null,
            "object_position": null,
            "object_fit": null,
            "grid_auto_columns": null,
            "margin": null,
            "display": null,
            "left": null
          }
        },
        "6fc3fec64bbe427e9aa506a18e71a050": {
          "model_module": "@jupyter-widgets/controls",
          "model_name": "DescriptionStyleModel",
          "state": {
            "_view_name": "StyleView",
            "_model_name": "DescriptionStyleModel",
            "description_width": "",
            "_view_module": "@jupyter-widgets/base",
            "_model_module_version": "1.5.0",
            "_view_count": null,
            "_view_module_version": "1.2.0",
            "_model_module": "@jupyter-widgets/controls"
          }
        },
        "f85ea3dceb724d66881e2a3f211f0534": {
          "model_module": "@jupyter-widgets/base",
          "model_name": "LayoutModel",
          "state": {
            "_view_name": "LayoutView",
            "grid_template_rows": null,
            "right": null,
            "justify_content": null,
            "_view_module": "@jupyter-widgets/base",
            "overflow": null,
            "_model_module_version": "1.2.0",
            "_view_count": null,
            "flex_flow": null,
            "width": null,
            "min_width": null,
            "border": null,
            "align_items": null,
            "bottom": null,
            "_model_module": "@jupyter-widgets/base",
            "top": null,
            "grid_column": null,
            "overflow_y": null,
            "overflow_x": null,
            "grid_auto_flow": null,
            "grid_area": null,
            "grid_template_columns": null,
            "flex": null,
            "_model_name": "LayoutModel",
            "justify_items": null,
            "grid_row": null,
            "max_height": null,
            "align_content": null,
            "visibility": null,
            "align_self": null,
            "height": null,
            "min_height": null,
            "padding": null,
            "grid_auto_rows": null,
            "grid_gap": null,
            "max_width": null,
            "order": null,
            "_view_module_version": "1.2.0",
            "grid_template_areas": null,
            "object_position": null,
            "object_fit": null,
            "grid_auto_columns": null,
            "margin": null,
            "display": null,
            "left": null
          }
        },
        "033c566ab61241c2953d7b31e95f2767": {
          "model_module": "@jupyter-widgets/controls",
          "model_name": "HBoxModel",
          "state": {
            "_view_name": "HBoxView",
            "_dom_classes": [],
            "_model_name": "HBoxModel",
            "_view_module": "@jupyter-widgets/controls",
            "_model_module_version": "1.5.0",
            "_view_count": null,
            "_view_module_version": "1.5.0",
            "box_style": "",
            "layout": "IPY_MODEL_0319e30a5ea04e62aeecda22ada3d59f",
            "_model_module": "@jupyter-widgets/controls",
            "children": [
              "IPY_MODEL_964f3bb94e4a44e79a73407cc7759355",
              "IPY_MODEL_01e34c3b52704b839c44e30b1c19205c"
            ]
          }
        },
        "0319e30a5ea04e62aeecda22ada3d59f": {
          "model_module": "@jupyter-widgets/base",
          "model_name": "LayoutModel",
          "state": {
            "_view_name": "LayoutView",
            "grid_template_rows": null,
            "right": null,
            "justify_content": null,
            "_view_module": "@jupyter-widgets/base",
            "overflow": null,
            "_model_module_version": "1.2.0",
            "_view_count": null,
            "flex_flow": null,
            "width": null,
            "min_width": null,
            "border": null,
            "align_items": null,
            "bottom": null,
            "_model_module": "@jupyter-widgets/base",
            "top": null,
            "grid_column": null,
            "overflow_y": null,
            "overflow_x": null,
            "grid_auto_flow": null,
            "grid_area": null,
            "grid_template_columns": null,
            "flex": null,
            "_model_name": "LayoutModel",
            "justify_items": null,
            "grid_row": null,
            "max_height": null,
            "align_content": null,
            "visibility": null,
            "align_self": null,
            "height": null,
            "min_height": null,
            "padding": null,
            "grid_auto_rows": null,
            "grid_gap": null,
            "max_width": null,
            "order": null,
            "_view_module_version": "1.2.0",
            "grid_template_areas": null,
            "object_position": null,
            "object_fit": null,
            "grid_auto_columns": null,
            "margin": null,
            "display": null,
            "left": null
          }
        },
        "964f3bb94e4a44e79a73407cc7759355": {
          "model_module": "@jupyter-widgets/controls",
          "model_name": "FloatProgressModel",
          "state": {
            "_view_name": "ProgressView",
            "style": "IPY_MODEL_be2f07a8482947288b2b01f96029bb7a",
            "_dom_classes": [],
            "description": "100%",
            "_model_name": "FloatProgressModel",
            "bar_style": "success",
            "max": 1926,
            "_view_module": "@jupyter-widgets/controls",
            "_model_module_version": "1.5.0",
            "value": 1926,
            "_view_count": null,
            "_view_module_version": "1.5.0",
            "orientation": "horizontal",
            "min": 0,
            "description_tooltip": null,
            "_model_module": "@jupyter-widgets/controls",
            "layout": "IPY_MODEL_027a2c2e8e254a0cb540273788edfcfb"
          }
        },
        "01e34c3b52704b839c44e30b1c19205c": {
          "model_module": "@jupyter-widgets/controls",
          "model_name": "HTMLModel",
          "state": {
            "_view_name": "HTMLView",
            "style": "IPY_MODEL_acd6eeca188a4dc79271a1c17690d431",
            "_dom_classes": [],
            "description": "",
            "_model_name": "HTMLModel",
            "placeholder": "​",
            "_view_module": "@jupyter-widgets/controls",
            "_model_module_version": "1.5.0",
            "value": " 1926/1926 [00:29&lt;00:00, 65.78it/s]",
            "_view_count": null,
            "_view_module_version": "1.5.0",
            "description_tooltip": null,
            "_model_module": "@jupyter-widgets/controls",
            "layout": "IPY_MODEL_0328c4ab4c264ce9a83d3c3d64641a7b"
          }
        },
        "be2f07a8482947288b2b01f96029bb7a": {
          "model_module": "@jupyter-widgets/controls",
          "model_name": "ProgressStyleModel",
          "state": {
            "_view_name": "StyleView",
            "_model_name": "ProgressStyleModel",
            "description_width": "initial",
            "_view_module": "@jupyter-widgets/base",
            "_model_module_version": "1.5.0",
            "_view_count": null,
            "_view_module_version": "1.2.0",
            "bar_color": null,
            "_model_module": "@jupyter-widgets/controls"
          }
        },
        "027a2c2e8e254a0cb540273788edfcfb": {
          "model_module": "@jupyter-widgets/base",
          "model_name": "LayoutModel",
          "state": {
            "_view_name": "LayoutView",
            "grid_template_rows": null,
            "right": null,
            "justify_content": null,
            "_view_module": "@jupyter-widgets/base",
            "overflow": null,
            "_model_module_version": "1.2.0",
            "_view_count": null,
            "flex_flow": null,
            "width": null,
            "min_width": null,
            "border": null,
            "align_items": null,
            "bottom": null,
            "_model_module": "@jupyter-widgets/base",
            "top": null,
            "grid_column": null,
            "overflow_y": null,
            "overflow_x": null,
            "grid_auto_flow": null,
            "grid_area": null,
            "grid_template_columns": null,
            "flex": null,
            "_model_name": "LayoutModel",
            "justify_items": null,
            "grid_row": null,
            "max_height": null,
            "align_content": null,
            "visibility": null,
            "align_self": null,
            "height": null,
            "min_height": null,
            "padding": null,
            "grid_auto_rows": null,
            "grid_gap": null,
            "max_width": null,
            "order": null,
            "_view_module_version": "1.2.0",
            "grid_template_areas": null,
            "object_position": null,
            "object_fit": null,
            "grid_auto_columns": null,
            "margin": null,
            "display": null,
            "left": null
          }
        },
        "acd6eeca188a4dc79271a1c17690d431": {
          "model_module": "@jupyter-widgets/controls",
          "model_name": "DescriptionStyleModel",
          "state": {
            "_view_name": "StyleView",
            "_model_name": "DescriptionStyleModel",
            "description_width": "",
            "_view_module": "@jupyter-widgets/base",
            "_model_module_version": "1.5.0",
            "_view_count": null,
            "_view_module_version": "1.2.0",
            "_model_module": "@jupyter-widgets/controls"
          }
        },
        "0328c4ab4c264ce9a83d3c3d64641a7b": {
          "model_module": "@jupyter-widgets/base",
          "model_name": "LayoutModel",
          "state": {
            "_view_name": "LayoutView",
            "grid_template_rows": null,
            "right": null,
            "justify_content": null,
            "_view_module": "@jupyter-widgets/base",
            "overflow": null,
            "_model_module_version": "1.2.0",
            "_view_count": null,
            "flex_flow": null,
            "width": null,
            "min_width": null,
            "border": null,
            "align_items": null,
            "bottom": null,
            "_model_module": "@jupyter-widgets/base",
            "top": null,
            "grid_column": null,
            "overflow_y": null,
            "overflow_x": null,
            "grid_auto_flow": null,
            "grid_area": null,
            "grid_template_columns": null,
            "flex": null,
            "_model_name": "LayoutModel",
            "justify_items": null,
            "grid_row": null,
            "max_height": null,
            "align_content": null,
            "visibility": null,
            "align_self": null,
            "height": null,
            "min_height": null,
            "padding": null,
            "grid_auto_rows": null,
            "grid_gap": null,
            "max_width": null,
            "order": null,
            "_view_module_version": "1.2.0",
            "grid_template_areas": null,
            "object_position": null,
            "object_fit": null,
            "grid_auto_columns": null,
            "margin": null,
            "display": null,
            "left": null
          }
        },
        "59878476b56743929042b3f756c1f84f": {
          "model_module": "@jupyter-widgets/controls",
          "model_name": "HBoxModel",
          "state": {
            "_view_name": "HBoxView",
            "_dom_classes": [],
            "_model_name": "HBoxModel",
            "_view_module": "@jupyter-widgets/controls",
            "_model_module_version": "1.5.0",
            "_view_count": null,
            "_view_module_version": "1.5.0",
            "box_style": "",
            "layout": "IPY_MODEL_660eb21663f54fe198038224f795e43b",
            "_model_module": "@jupyter-widgets/controls",
            "children": [
              "IPY_MODEL_e55b227854a64c85b6d5d3a0f1df7d9f",
              "IPY_MODEL_0eb9e5c911014984a187c5045feb9a57"
            ]
          }
        },
        "660eb21663f54fe198038224f795e43b": {
          "model_module": "@jupyter-widgets/base",
          "model_name": "LayoutModel",
          "state": {
            "_view_name": "LayoutView",
            "grid_template_rows": null,
            "right": null,
            "justify_content": null,
            "_view_module": "@jupyter-widgets/base",
            "overflow": null,
            "_model_module_version": "1.2.0",
            "_view_count": null,
            "flex_flow": null,
            "width": null,
            "min_width": null,
            "border": null,
            "align_items": null,
            "bottom": null,
            "_model_module": "@jupyter-widgets/base",
            "top": null,
            "grid_column": null,
            "overflow_y": null,
            "overflow_x": null,
            "grid_auto_flow": null,
            "grid_area": null,
            "grid_template_columns": null,
            "flex": null,
            "_model_name": "LayoutModel",
            "justify_items": null,
            "grid_row": null,
            "max_height": null,
            "align_content": null,
            "visibility": null,
            "align_self": null,
            "height": null,
            "min_height": null,
            "padding": null,
            "grid_auto_rows": null,
            "grid_gap": null,
            "max_width": null,
            "order": null,
            "_view_module_version": "1.2.0",
            "grid_template_areas": null,
            "object_position": null,
            "object_fit": null,
            "grid_auto_columns": null,
            "margin": null,
            "display": null,
            "left": null
          }
        },
        "e55b227854a64c85b6d5d3a0f1df7d9f": {
          "model_module": "@jupyter-widgets/controls",
          "model_name": "FloatProgressModel",
          "state": {
            "_view_name": "ProgressView",
            "style": "IPY_MODEL_68b14356dc084610b0900a1de5aca48f",
            "_dom_classes": [],
            "description": "100%",
            "_model_name": "FloatProgressModel",
            "bar_style": "success",
            "max": 1926,
            "_view_module": "@jupyter-widgets/controls",
            "_model_module_version": "1.5.0",
            "value": 1926,
            "_view_count": null,
            "_view_module_version": "1.5.0",
            "orientation": "horizontal",
            "min": 0,
            "description_tooltip": null,
            "_model_module": "@jupyter-widgets/controls",
            "layout": "IPY_MODEL_36796ee3ead64760a4402ed24c81e9b1"
          }
        },
        "0eb9e5c911014984a187c5045feb9a57": {
          "model_module": "@jupyter-widgets/controls",
          "model_name": "HTMLModel",
          "state": {
            "_view_name": "HTMLView",
            "style": "IPY_MODEL_3956934b36ee4626930a7c4b677044a0",
            "_dom_classes": [],
            "description": "",
            "_model_name": "HTMLModel",
            "placeholder": "​",
            "_view_module": "@jupyter-widgets/controls",
            "_model_module_version": "1.5.0",
            "value": " 1926/1926 [02:14&lt;00:00, 14.29it/s]",
            "_view_count": null,
            "_view_module_version": "1.5.0",
            "description_tooltip": null,
            "_model_module": "@jupyter-widgets/controls",
            "layout": "IPY_MODEL_88f7df94413d4255830663c5151e3b2e"
          }
        },
        "68b14356dc084610b0900a1de5aca48f": {
          "model_module": "@jupyter-widgets/controls",
          "model_name": "ProgressStyleModel",
          "state": {
            "_view_name": "StyleView",
            "_model_name": "ProgressStyleModel",
            "description_width": "initial",
            "_view_module": "@jupyter-widgets/base",
            "_model_module_version": "1.5.0",
            "_view_count": null,
            "_view_module_version": "1.2.0",
            "bar_color": null,
            "_model_module": "@jupyter-widgets/controls"
          }
        },
        "36796ee3ead64760a4402ed24c81e9b1": {
          "model_module": "@jupyter-widgets/base",
          "model_name": "LayoutModel",
          "state": {
            "_view_name": "LayoutView",
            "grid_template_rows": null,
            "right": null,
            "justify_content": null,
            "_view_module": "@jupyter-widgets/base",
            "overflow": null,
            "_model_module_version": "1.2.0",
            "_view_count": null,
            "flex_flow": null,
            "width": null,
            "min_width": null,
            "border": null,
            "align_items": null,
            "bottom": null,
            "_model_module": "@jupyter-widgets/base",
            "top": null,
            "grid_column": null,
            "overflow_y": null,
            "overflow_x": null,
            "grid_auto_flow": null,
            "grid_area": null,
            "grid_template_columns": null,
            "flex": null,
            "_model_name": "LayoutModel",
            "justify_items": null,
            "grid_row": null,
            "max_height": null,
            "align_content": null,
            "visibility": null,
            "align_self": null,
            "height": null,
            "min_height": null,
            "padding": null,
            "grid_auto_rows": null,
            "grid_gap": null,
            "max_width": null,
            "order": null,
            "_view_module_version": "1.2.0",
            "grid_template_areas": null,
            "object_position": null,
            "object_fit": null,
            "grid_auto_columns": null,
            "margin": null,
            "display": null,
            "left": null
          }
        },
        "3956934b36ee4626930a7c4b677044a0": {
          "model_module": "@jupyter-widgets/controls",
          "model_name": "DescriptionStyleModel",
          "state": {
            "_view_name": "StyleView",
            "_model_name": "DescriptionStyleModel",
            "description_width": "",
            "_view_module": "@jupyter-widgets/base",
            "_model_module_version": "1.5.0",
            "_view_count": null,
            "_view_module_version": "1.2.0",
            "_model_module": "@jupyter-widgets/controls"
          }
        },
        "88f7df94413d4255830663c5151e3b2e": {
          "model_module": "@jupyter-widgets/base",
          "model_name": "LayoutModel",
          "state": {
            "_view_name": "LayoutView",
            "grid_template_rows": null,
            "right": null,
            "justify_content": null,
            "_view_module": "@jupyter-widgets/base",
            "overflow": null,
            "_model_module_version": "1.2.0",
            "_view_count": null,
            "flex_flow": null,
            "width": null,
            "min_width": null,
            "border": null,
            "align_items": null,
            "bottom": null,
            "_model_module": "@jupyter-widgets/base",
            "top": null,
            "grid_column": null,
            "overflow_y": null,
            "overflow_x": null,
            "grid_auto_flow": null,
            "grid_area": null,
            "grid_template_columns": null,
            "flex": null,
            "_model_name": "LayoutModel",
            "justify_items": null,
            "grid_row": null,
            "max_height": null,
            "align_content": null,
            "visibility": null,
            "align_self": null,
            "height": null,
            "min_height": null,
            "padding": null,
            "grid_auto_rows": null,
            "grid_gap": null,
            "max_width": null,
            "order": null,
            "_view_module_version": "1.2.0",
            "grid_template_areas": null,
            "object_position": null,
            "object_fit": null,
            "grid_auto_columns": null,
            "margin": null,
            "display": null,
            "left": null
          }
        },
        "d5b23ea9a5eb4a1dba29b5ac77d7fe5b": {
          "model_module": "@jupyter-widgets/controls",
          "model_name": "HBoxModel",
          "state": {
            "_view_name": "HBoxView",
            "_dom_classes": [],
            "_model_name": "HBoxModel",
            "_view_module": "@jupyter-widgets/controls",
            "_model_module_version": "1.5.0",
            "_view_count": null,
            "_view_module_version": "1.5.0",
            "box_style": "",
            "layout": "IPY_MODEL_63ab07d8871b47e882459e67da601474",
            "_model_module": "@jupyter-widgets/controls",
            "children": [
              "IPY_MODEL_791ab3dfbbf44cd28005140c60c1164a",
              "IPY_MODEL_595617feef3c475493f9b614a528fe00"
            ]
          }
        },
        "63ab07d8871b47e882459e67da601474": {
          "model_module": "@jupyter-widgets/base",
          "model_name": "LayoutModel",
          "state": {
            "_view_name": "LayoutView",
            "grid_template_rows": null,
            "right": null,
            "justify_content": null,
            "_view_module": "@jupyter-widgets/base",
            "overflow": null,
            "_model_module_version": "1.2.0",
            "_view_count": null,
            "flex_flow": null,
            "width": null,
            "min_width": null,
            "border": null,
            "align_items": null,
            "bottom": null,
            "_model_module": "@jupyter-widgets/base",
            "top": null,
            "grid_column": null,
            "overflow_y": null,
            "overflow_x": null,
            "grid_auto_flow": null,
            "grid_area": null,
            "grid_template_columns": null,
            "flex": null,
            "_model_name": "LayoutModel",
            "justify_items": null,
            "grid_row": null,
            "max_height": null,
            "align_content": null,
            "visibility": null,
            "align_self": null,
            "height": null,
            "min_height": null,
            "padding": null,
            "grid_auto_rows": null,
            "grid_gap": null,
            "max_width": null,
            "order": null,
            "_view_module_version": "1.2.0",
            "grid_template_areas": null,
            "object_position": null,
            "object_fit": null,
            "grid_auto_columns": null,
            "margin": null,
            "display": null,
            "left": null
          }
        },
        "791ab3dfbbf44cd28005140c60c1164a": {
          "model_module": "@jupyter-widgets/controls",
          "model_name": "FloatProgressModel",
          "state": {
            "_view_name": "ProgressView",
            "style": "IPY_MODEL_49efaaa4377744f0af0eee62e5927e89",
            "_dom_classes": [],
            "description": "100%",
            "_model_name": "FloatProgressModel",
            "bar_style": "success",
            "max": 1926,
            "_view_module": "@jupyter-widgets/controls",
            "_model_module_version": "1.5.0",
            "value": 1926,
            "_view_count": null,
            "_view_module_version": "1.5.0",
            "orientation": "horizontal",
            "min": 0,
            "description_tooltip": null,
            "_model_module": "@jupyter-widgets/controls",
            "layout": "IPY_MODEL_dd4f049a602044cb8fe0d44617392eae"
          }
        },
        "595617feef3c475493f9b614a528fe00": {
          "model_module": "@jupyter-widgets/controls",
          "model_name": "HTMLModel",
          "state": {
            "_view_name": "HTMLView",
            "style": "IPY_MODEL_088dc90c0cb24fa881ddd99cc023e4db",
            "_dom_classes": [],
            "description": "",
            "_model_name": "HTMLModel",
            "placeholder": "​",
            "_view_module": "@jupyter-widgets/controls",
            "_model_module_version": "1.5.0",
            "value": " 1926/1926 [00:29&lt;00:00, 65.81it/s]",
            "_view_count": null,
            "_view_module_version": "1.5.0",
            "description_tooltip": null,
            "_model_module": "@jupyter-widgets/controls",
            "layout": "IPY_MODEL_0983747fc4e64fe6bc100d81ab19248c"
          }
        },
        "49efaaa4377744f0af0eee62e5927e89": {
          "model_module": "@jupyter-widgets/controls",
          "model_name": "ProgressStyleModel",
          "state": {
            "_view_name": "StyleView",
            "_model_name": "ProgressStyleModel",
            "description_width": "initial",
            "_view_module": "@jupyter-widgets/base",
            "_model_module_version": "1.5.0",
            "_view_count": null,
            "_view_module_version": "1.2.0",
            "bar_color": null,
            "_model_module": "@jupyter-widgets/controls"
          }
        },
        "dd4f049a602044cb8fe0d44617392eae": {
          "model_module": "@jupyter-widgets/base",
          "model_name": "LayoutModel",
          "state": {
            "_view_name": "LayoutView",
            "grid_template_rows": null,
            "right": null,
            "justify_content": null,
            "_view_module": "@jupyter-widgets/base",
            "overflow": null,
            "_model_module_version": "1.2.0",
            "_view_count": null,
            "flex_flow": null,
            "width": null,
            "min_width": null,
            "border": null,
            "align_items": null,
            "bottom": null,
            "_model_module": "@jupyter-widgets/base",
            "top": null,
            "grid_column": null,
            "overflow_y": null,
            "overflow_x": null,
            "grid_auto_flow": null,
            "grid_area": null,
            "grid_template_columns": null,
            "flex": null,
            "_model_name": "LayoutModel",
            "justify_items": null,
            "grid_row": null,
            "max_height": null,
            "align_content": null,
            "visibility": null,
            "align_self": null,
            "height": null,
            "min_height": null,
            "padding": null,
            "grid_auto_rows": null,
            "grid_gap": null,
            "max_width": null,
            "order": null,
            "_view_module_version": "1.2.0",
            "grid_template_areas": null,
            "object_position": null,
            "object_fit": null,
            "grid_auto_columns": null,
            "margin": null,
            "display": null,
            "left": null
          }
        },
        "088dc90c0cb24fa881ddd99cc023e4db": {
          "model_module": "@jupyter-widgets/controls",
          "model_name": "DescriptionStyleModel",
          "state": {
            "_view_name": "StyleView",
            "_model_name": "DescriptionStyleModel",
            "description_width": "",
            "_view_module": "@jupyter-widgets/base",
            "_model_module_version": "1.5.0",
            "_view_count": null,
            "_view_module_version": "1.2.0",
            "_model_module": "@jupyter-widgets/controls"
          }
        },
        "0983747fc4e64fe6bc100d81ab19248c": {
          "model_module": "@jupyter-widgets/base",
          "model_name": "LayoutModel",
          "state": {
            "_view_name": "LayoutView",
            "grid_template_rows": null,
            "right": null,
            "justify_content": null,
            "_view_module": "@jupyter-widgets/base",
            "overflow": null,
            "_model_module_version": "1.2.0",
            "_view_count": null,
            "flex_flow": null,
            "width": null,
            "min_width": null,
            "border": null,
            "align_items": null,
            "bottom": null,
            "_model_module": "@jupyter-widgets/base",
            "top": null,
            "grid_column": null,
            "overflow_y": null,
            "overflow_x": null,
            "grid_auto_flow": null,
            "grid_area": null,
            "grid_template_columns": null,
            "flex": null,
            "_model_name": "LayoutModel",
            "justify_items": null,
            "grid_row": null,
            "max_height": null,
            "align_content": null,
            "visibility": null,
            "align_self": null,
            "height": null,
            "min_height": null,
            "padding": null,
            "grid_auto_rows": null,
            "grid_gap": null,
            "max_width": null,
            "order": null,
            "_view_module_version": "1.2.0",
            "grid_template_areas": null,
            "object_position": null,
            "object_fit": null,
            "grid_auto_columns": null,
            "margin": null,
            "display": null,
            "left": null
          }
        },
        "ae118402c132402fa298773bb47c382d": {
          "model_module": "@jupyter-widgets/controls",
          "model_name": "HBoxModel",
          "state": {
            "_view_name": "HBoxView",
            "_dom_classes": [],
            "_model_name": "HBoxModel",
            "_view_module": "@jupyter-widgets/controls",
            "_model_module_version": "1.5.0",
            "_view_count": null,
            "_view_module_version": "1.5.0",
            "box_style": "",
            "layout": "IPY_MODEL_b782b6abcfbb423492a4429078c7c239",
            "_model_module": "@jupyter-widgets/controls",
            "children": [
              "IPY_MODEL_d73f554d1cdf44eab5eab84be5e8190b",
              "IPY_MODEL_d058e9d28d0442eaaca583ce76519535"
            ]
          }
        },
        "b782b6abcfbb423492a4429078c7c239": {
          "model_module": "@jupyter-widgets/base",
          "model_name": "LayoutModel",
          "state": {
            "_view_name": "LayoutView",
            "grid_template_rows": null,
            "right": null,
            "justify_content": null,
            "_view_module": "@jupyter-widgets/base",
            "overflow": null,
            "_model_module_version": "1.2.0",
            "_view_count": null,
            "flex_flow": null,
            "width": null,
            "min_width": null,
            "border": null,
            "align_items": null,
            "bottom": null,
            "_model_module": "@jupyter-widgets/base",
            "top": null,
            "grid_column": null,
            "overflow_y": null,
            "overflow_x": null,
            "grid_auto_flow": null,
            "grid_area": null,
            "grid_template_columns": null,
            "flex": null,
            "_model_name": "LayoutModel",
            "justify_items": null,
            "grid_row": null,
            "max_height": null,
            "align_content": null,
            "visibility": null,
            "align_self": null,
            "height": null,
            "min_height": null,
            "padding": null,
            "grid_auto_rows": null,
            "grid_gap": null,
            "max_width": null,
            "order": null,
            "_view_module_version": "1.2.0",
            "grid_template_areas": null,
            "object_position": null,
            "object_fit": null,
            "grid_auto_columns": null,
            "margin": null,
            "display": null,
            "left": null
          }
        },
        "d73f554d1cdf44eab5eab84be5e8190b": {
          "model_module": "@jupyter-widgets/controls",
          "model_name": "FloatProgressModel",
          "state": {
            "_view_name": "ProgressView",
            "style": "IPY_MODEL_29b64176a57a47cebeae9a09b996e1c6",
            "_dom_classes": [],
            "description": "100%",
            "_model_name": "FloatProgressModel",
            "bar_style": "success",
            "max": 1926,
            "_view_module": "@jupyter-widgets/controls",
            "_model_module_version": "1.5.0",
            "value": 1926,
            "_view_count": null,
            "_view_module_version": "1.5.0",
            "orientation": "horizontal",
            "min": 0,
            "description_tooltip": null,
            "_model_module": "@jupyter-widgets/controls",
            "layout": "IPY_MODEL_301c9f24483f4b23bd7d2eebb1bf10b9"
          }
        },
        "d058e9d28d0442eaaca583ce76519535": {
          "model_module": "@jupyter-widgets/controls",
          "model_name": "HTMLModel",
          "state": {
            "_view_name": "HTMLView",
            "style": "IPY_MODEL_145debae6b2d4686a471b28ecb06e8be",
            "_dom_classes": [],
            "description": "",
            "_model_name": "HTMLModel",
            "placeholder": "​",
            "_view_module": "@jupyter-widgets/controls",
            "_model_module_version": "1.5.0",
            "value": " 1926/1926 [01:16&lt;00:00, 25.13it/s]",
            "_view_count": null,
            "_view_module_version": "1.5.0",
            "description_tooltip": null,
            "_model_module": "@jupyter-widgets/controls",
            "layout": "IPY_MODEL_72623b1ab228497a97aadcb05ab3fc83"
          }
        },
        "29b64176a57a47cebeae9a09b996e1c6": {
          "model_module": "@jupyter-widgets/controls",
          "model_name": "ProgressStyleModel",
          "state": {
            "_view_name": "StyleView",
            "_model_name": "ProgressStyleModel",
            "description_width": "initial",
            "_view_module": "@jupyter-widgets/base",
            "_model_module_version": "1.5.0",
            "_view_count": null,
            "_view_module_version": "1.2.0",
            "bar_color": null,
            "_model_module": "@jupyter-widgets/controls"
          }
        },
        "301c9f24483f4b23bd7d2eebb1bf10b9": {
          "model_module": "@jupyter-widgets/base",
          "model_name": "LayoutModel",
          "state": {
            "_view_name": "LayoutView",
            "grid_template_rows": null,
            "right": null,
            "justify_content": null,
            "_view_module": "@jupyter-widgets/base",
            "overflow": null,
            "_model_module_version": "1.2.0",
            "_view_count": null,
            "flex_flow": null,
            "width": null,
            "min_width": null,
            "border": null,
            "align_items": null,
            "bottom": null,
            "_model_module": "@jupyter-widgets/base",
            "top": null,
            "grid_column": null,
            "overflow_y": null,
            "overflow_x": null,
            "grid_auto_flow": null,
            "grid_area": null,
            "grid_template_columns": null,
            "flex": null,
            "_model_name": "LayoutModel",
            "justify_items": null,
            "grid_row": null,
            "max_height": null,
            "align_content": null,
            "visibility": null,
            "align_self": null,
            "height": null,
            "min_height": null,
            "padding": null,
            "grid_auto_rows": null,
            "grid_gap": null,
            "max_width": null,
            "order": null,
            "_view_module_version": "1.2.0",
            "grid_template_areas": null,
            "object_position": null,
            "object_fit": null,
            "grid_auto_columns": null,
            "margin": null,
            "display": null,
            "left": null
          }
        },
        "145debae6b2d4686a471b28ecb06e8be": {
          "model_module": "@jupyter-widgets/controls",
          "model_name": "DescriptionStyleModel",
          "state": {
            "_view_name": "StyleView",
            "_model_name": "DescriptionStyleModel",
            "description_width": "",
            "_view_module": "@jupyter-widgets/base",
            "_model_module_version": "1.5.0",
            "_view_count": null,
            "_view_module_version": "1.2.0",
            "_model_module": "@jupyter-widgets/controls"
          }
        },
        "72623b1ab228497a97aadcb05ab3fc83": {
          "model_module": "@jupyter-widgets/base",
          "model_name": "LayoutModel",
          "state": {
            "_view_name": "LayoutView",
            "grid_template_rows": null,
            "right": null,
            "justify_content": null,
            "_view_module": "@jupyter-widgets/base",
            "overflow": null,
            "_model_module_version": "1.2.0",
            "_view_count": null,
            "flex_flow": null,
            "width": null,
            "min_width": null,
            "border": null,
            "align_items": null,
            "bottom": null,
            "_model_module": "@jupyter-widgets/base",
            "top": null,
            "grid_column": null,
            "overflow_y": null,
            "overflow_x": null,
            "grid_auto_flow": null,
            "grid_area": null,
            "grid_template_columns": null,
            "flex": null,
            "_model_name": "LayoutModel",
            "justify_items": null,
            "grid_row": null,
            "max_height": null,
            "align_content": null,
            "visibility": null,
            "align_self": null,
            "height": null,
            "min_height": null,
            "padding": null,
            "grid_auto_rows": null,
            "grid_gap": null,
            "max_width": null,
            "order": null,
            "_view_module_version": "1.2.0",
            "grid_template_areas": null,
            "object_position": null,
            "object_fit": null,
            "grid_auto_columns": null,
            "margin": null,
            "display": null,
            "left": null
          }
        }
      }
    }
  },
  "cells": [
    {
      "cell_type": "markdown",
      "metadata": {
        "id": "sllID4npk-uW",
        "colab_type": "text"
      },
      "source": [
        "# Imports"
      ]
    },
    {
      "cell_type": "code",
      "metadata": {
        "id": "HN9VWyahfG0j",
        "colab_type": "code",
        "colab": {}
      },
      "source": [
        "import os\n",
        "import numpy as np\n",
        "import glob\n",
        "import PIL.Image as Image\n",
        "from tqdm.notebook import tqdm\n",
        "\n",
        "import torch\n",
        "import torch.nn as nn\n",
        "import torch.nn.functional as F\n",
        "import torchvision.datasets as datasets\n",
        "from torch.utils.data import DataLoader\n",
        "import torchvision.transforms as transforms\n",
        "import matplotlib.pyplot as plt\n",
        "\n",
        "import json"
      ],
      "execution_count": null,
      "outputs": []
    },
    {
      "cell_type": "code",
      "metadata": {
        "id": "bJvJvV_RiEjd",
        "colab_type": "code",
        "colab": {
          "base_uri": "https://localhost:8080/",
          "height": 34
        },
        "outputId": "95bf87e5-bcdb-43db-a270-1d82308f00a5"
      },
      "source": [
        "if torch.cuda.is_available():\n",
        "    print(\"The code will run on GPU.\")\n",
        "else:\n",
        "    print(\"The code will run on CPU. Go to Edit->Notebook Settings and choose GPU as the hardware accelerator\")\n",
        "device = torch.device('cuda' if torch.cuda.is_available() else 'cpu')"
      ],
      "execution_count": null,
      "outputs": [
        {
          "output_type": "stream",
          "text": [
            "The code will run on GPU.\n"
          ],
          "name": "stdout"
        }
      ]
    },
    {
      "cell_type": "markdown",
      "metadata": {
        "id": "KhfDnwcFensN",
        "colab_type": "text"
      },
      "source": [
        "# Reading the data"
      ]
    },
    {
      "cell_type": "code",
      "metadata": {
        "id": "9l25zpAfeq1K",
        "colab_type": "code",
        "colab": {
          "base_uri": "https://localhost:8080/",
          "height": 85
        },
        "outputId": "d3597597-5e39-4ac6-c55d-91083d3111f8"
      },
      "source": [
        "if not os.path.exists('./SVHN'):\n",
        "  import gdown\n",
        "  url = 'https://drive.google.com/uc?id=1YneBiiNWt6mEa5STYWtT5XlDb_6JeDpg'\n",
        "  gdown.download(url, './SVHN.zip', quiet=False)\n",
        "  !unzip ./SVHN.zip > /dev/null"
      ],
      "execution_count": null,
      "outputs": [
        {
          "output_type": "stream",
          "text": [
            "Downloading...\n",
            "From: https://drive.google.com/uc?id=1YneBiiNWt6mEa5STYWtT5XlDb_6JeDpg\n",
            "To: /content/SVHN.zip\n",
            "689MB [00:18, 36.9MB/s]\n"
          ],
          "name": "stderr"
        }
      ]
    },
    {
      "cell_type": "markdown",
      "metadata": {
        "id": "EBV8ln_eRumv",
        "colab_type": "text"
      },
      "source": [
        "# making the joson file for bounding boxes"
      ]
    },
    {
      "cell_type": "code",
      "metadata": {
        "id": "5LYGRZDng38u",
        "colab_type": "code",
        "colab": {}
      },
      "source": [
        "# import tqdm\n",
        "# import h5py\n",
        "# import optparse\n",
        "# from json import JSONEncoder\n",
        "\n",
        "# parser = optparse.OptionParser()\n",
        "# parser.add_option(\"-f\", dest=\"fin\", help=\"Matlab full number SVHN input file\", default=\"digitStruct.mat\")\n",
        "# parser.add_option(\"-o\", dest=\"filePrefix\", help=\"name for the json output file\", default=\"digitStruct\")\n",
        "# options, args = parser.parse_args()\n",
        "\n",
        "# fin = options.fin\n",
        "\n",
        "\n",
        "# # The DigitStructFile is just a wrapper around the h5py data.  It basically references\n",
        "# #    inf:              The input h5 matlab file\n",
        "# #    digitStructName   The h5 ref to all the file names\n",
        "# #    digitStructBbox   The h5 ref to all struc data\n",
        "# class DigitStructFile:\n",
        "#     def __init__(self, inf):\n",
        "#         self.inf = h5py.File(inf, 'r')\n",
        "#         self.digitStructName = self.inf['digitStruct']['name']\n",
        "#         self.digitStructBbox = self.inf['digitStruct']['bbox']\n",
        "\n",
        "#     # getName returns the 'name' string for for the n(th) digitStruct.\n",
        "#     def getName(self, n):\n",
        "#         return ''.join([chr(c[0]) for c in self.inf[self.digitStructName[n][0]].value])\n",
        "\n",
        "#     # bboxHelper handles the coding difference when there is exactly one bbox or an array of bbox.\n",
        "#     def bboxHelper(self, attr):\n",
        "#         if len(attr) > 1:\n",
        "#             attr = [self.inf[attr.value[j].item()].value[0][0] for j in range(len(attr))]\n",
        "#         else:\n",
        "#             attr = [attr.value[0][0]]\n",
        "#         return attr\n",
        "\n",
        "#     # getBbox returns a dict of data for the n(th) bbox.\n",
        "#     def getBbox(self, n):\n",
        "#         bbox = {}\n",
        "#         bb = self.digitStructBbox[n].item()\n",
        "#         bbox['height'] = self.bboxHelper(self.inf[bb][\"height\"])\n",
        "#         bbox['label'] = self.bboxHelper(self.inf[bb][\"label\"])\n",
        "#         bbox['left'] = self.bboxHelper(self.inf[bb][\"left\"])\n",
        "#         bbox['top'] = self.bboxHelper(self.inf[bb][\"top\"])\n",
        "#         bbox['width'] = self.bboxHelper(self.inf[bb][\"width\"])\n",
        "#         return bbox\n",
        "\n",
        "#     def getDigitStructure(self, n):\n",
        "#         s = self.getBbox(n)\n",
        "#         s['name'] = self.getName(n)\n",
        "#         return s\n",
        "\n",
        "#     # getAllDigitStructure returns all the digitStruct from the input file.\n",
        "#     def getAllDigitStructure(self):\n",
        "#         print('Starting get all digit structure')\n",
        "#         return [self.getDigitStructure(i) for i in tqdm.tqdm(range(len(self.digitStructName)))]\n",
        "\n",
        "#     # Return a restructured version of the dataset (one structure by boxed digit).\n",
        "#     #\n",
        "#     #   Return a list of such dicts :\n",
        "#     #      'filename' : filename of the samples\n",
        "#     #      'boxes' : list of such dicts (one by digit) :\n",
        "#     #          'label' : 1 to 9 corresponding digits. 10 for digit '0' in image.\n",
        "#     #          'left', 'top' : position of bounding box\n",
        "#     #          'width', 'height' : dimension of bounding box\n",
        "#     #\n",
        "#     # Note: We may turn this to a generator, if memory issues arise.\n",
        "#     def getAllDigitStructure_ByDigit(self):\n",
        "#         pictDat = self.getAllDigitStructure()\n",
        "#         result = []\n",
        "#         structCnt = 1\n",
        "#         print('Starting pack josn dict')\n",
        "#         for i in tqdm.tqdm(range(len(pictDat))):\n",
        "#             item = {'filename': pictDat[i][\"name\"] }\n",
        "#             figures = []\n",
        "#             for j in range(len(pictDat[i]['height'])):\n",
        "#                 figure = dict()\n",
        "#                 figure['height'] = pictDat[i]['height'][j]\n",
        "#                 figure['label']  = pictDat[i]['label'][j]\n",
        "#                 figure['left']   = pictDat[i]['left'][j]\n",
        "#                 figure['top']    = pictDat[i]['top'][j]\n",
        "#                 figure['width']  = pictDat[i]['width'][j]\n",
        "#                 figures.append(figure)\n",
        "#             structCnt += 1\n",
        "#             item['boxes'] = figures\n",
        "#             result.append(item)\n",
        "#         return result\n",
        "\n",
        "# fin = \"SVHN/train/digitStruct.mat\"\n",
        "# dsf = DigitStructFile(fin)\n",
        "# dataset = dsf.getAllDigitStructure_ByDigit()\n",
        "# fout = open(options.filePrefix + \".json\", 'w')\n",
        "# fout.write(JSONEncoder(indent=True).encode(dataset))\n",
        "# fout.close()"
      ],
      "execution_count": null,
      "outputs": []
    },
    {
      "cell_type": "markdown",
      "metadata": {
        "id": "j4swcP7YR10E",
        "colab_type": "text"
      },
      "source": [
        "# DataLoader"
      ]
    },
    {
      "cell_type": "code",
      "metadata": {
        "id": "OXykRpIRFQ8d",
        "colab_type": "code",
        "colab": {
          "base_uri": "https://localhost:8080/",
          "height": 198,
          "referenced_widgets": [
            "e9aa39a2b6fe4381a80ac164852ff057",
            "31c54e0a94064520a09af64eba299b48",
            "2cc0d6a09cba4aa1b0b87b57f7b964b7",
            "7ff5e85f1d1f4f9a8f6cc3f99215521d",
            "fd7aaf8a18a0481eaefadc9157aa3cd5",
            "0d2e3d5923e74a9e8a404591aff99ba7",
            "275affd75c4a45e09c750d9217339cd9",
            "0ef9cb3a70414368a87b87e4413101ed",
            "a7a8e972557f4300af0bc15f61220d38",
            "1073476e7d0f404788c6ad3a39c5f96c",
            "a8a66a55ad41469988416ca4f863cf52",
            "82e66b52bc0d4006b0371361362bcb64",
            "786a097ff85243299b7aeab537345dd2",
            "e851a77756924451b0f958b62e93a6bd",
            "181c27bb6fae4b6e8e73288a3409a7ef",
            "7a164eb9868f4d4d90375b273ab41489",
            "44d2a69fea064c97b4e0ea473a8a6799",
            "7f90fb643b3f4f94a65b9cc93724f04c",
            "7abe5386d2434af3903ce5595f15c85e",
            "f395017571b54a06890b3af17239b489",
            "588a0341aaa74e3ebb43cd50ef4dcce5",
            "2694cb8fe3bc43fe97ded943bbe9b836",
            "0fd6ec03ca5649129cf09ecc5cea30a6",
            "63d5ab541e98463bb97ec1ab118df57e"
          ]
        },
        "outputId": "7f0565db-32fb-45b8-d9bd-c2bb3162a15b"
      },
      "source": [
        "batch_size = 64\n",
        "\n",
        "train_svhn = datasets.SVHN('./data', split=\"train\", download=True, transform=transforms.ToTensor())\n",
        "train_cifar = datasets.CIFAR10('./data', train=True, download=True, transform=transforms.ToTensor())\n",
        "train_cifar.targets = np.asarray(train_cifar.targets)\n",
        "train_cifar.targets[:] = 10\n",
        "trainset = torch.utils.data.ConcatDataset((train_cifar, train_svhn))\n",
        "\n",
        "test_svhn = datasets.SVHN('./data', split=\"test\", download=True, transform=transforms.ToTensor())\n",
        "test_cifar = datasets.CIFAR10('./data', train=False, download=True, transform=transforms.ToTensor())\n",
        "test_cifar.targets = np.asarray(test_cifar.targets)\n",
        "test_cifar.targets[:] = 10\n",
        "testset = torch.utils.data.ConcatDataset((test_cifar, test_svhn))\n",
        "\n",
        "train_loader = DataLoader(trainset, batch_size=batch_size, shuffle=True, num_workers=1)\n",
        "test_loader = DataLoader(testset, batch_size=batch_size, shuffle=False, num_workers=1)\n",
        "\n",
        "# for (test_data, test_target) in train_loader:\n",
        "#     break\n",
        "# print(test_data.shape)\n",
        "# print(test_target)"
      ],
      "execution_count": null,
      "outputs": [
        {
          "output_type": "stream",
          "text": [
            "Downloading http://ufldl.stanford.edu/housenumbers/train_32x32.mat to ./data/train_32x32.mat\n"
          ],
          "name": "stdout"
        },
        {
          "output_type": "display_data",
          "data": {
            "application/vnd.jupyter.widget-view+json": {
              "model_id": "e9aa39a2b6fe4381a80ac164852ff057",
              "version_minor": 0,
              "version_major": 2
            },
            "text/plain": [
              "HBox(children=(FloatProgress(value=1.0, bar_style='info', max=1.0), HTML(value='')))"
            ]
          },
          "metadata": {
            "tags": []
          }
        },
        {
          "output_type": "stream",
          "text": [
            "Downloading https://www.cs.toronto.edu/~kriz/cifar-10-python.tar.gz to ./data/cifar-10-python.tar.gz\n"
          ],
          "name": "stdout"
        },
        {
          "output_type": "display_data",
          "data": {
            "application/vnd.jupyter.widget-view+json": {
              "model_id": "a7a8e972557f4300af0bc15f61220d38",
              "version_minor": 0,
              "version_major": 2
            },
            "text/plain": [
              "HBox(children=(FloatProgress(value=1.0, bar_style='info', max=1.0), HTML(value='')))"
            ]
          },
          "metadata": {
            "tags": []
          }
        },
        {
          "output_type": "stream",
          "text": [
            "Extracting ./data/cifar-10-python.tar.gz to ./data\n",
            "Downloading http://ufldl.stanford.edu/housenumbers/test_32x32.mat to ./data/test_32x32.mat\n"
          ],
          "name": "stdout"
        },
        {
          "output_type": "display_data",
          "data": {
            "application/vnd.jupyter.widget-view+json": {
              "model_id": "44d2a69fea064c97b4e0ea473a8a6799",
              "version_minor": 0,
              "version_major": 2
            },
            "text/plain": [
              "HBox(children=(FloatProgress(value=1.0, bar_style='info', max=1.0), HTML(value='')))"
            ]
          },
          "metadata": {
            "tags": []
          }
        },
        {
          "output_type": "stream",
          "text": [
            "Files already downloaded and verified\n"
          ],
          "name": "stdout"
        }
      ]
    },
    {
      "cell_type": "markdown",
      "metadata": {
        "id": "VluB6RLeShlD",
        "colab_type": "text"
      },
      "source": [
        "# Train"
      ]
    },
    {
      "cell_type": "code",
      "metadata": {
        "id": "krG-VZbdEAj2",
        "colab_type": "code",
        "colab": {}
      },
      "source": [
        "#We define the training as a function so we can easily re-use it.\n",
        "def train(model, optimizer, num_epochs=10):\n",
        "    def loss_fun(output, target):\n",
        "        return F.nll_loss(torch.log(output), target)\n",
        "    out_dict = {'train_acc': [],\n",
        "              'test_acc': [],\n",
        "              'train_loss': [],\n",
        "              'test_loss': []}\n",
        "  \n",
        "    for epoch in tqdm(range(num_epochs), unit='epoch'):\n",
        "        model.train()\n",
        "        #For each epoch\n",
        "        train_correct = 0\n",
        "        train_loss = []\n",
        "        for minibatch_no, (data, target) in tqdm(enumerate(train_loader), total=len(train_loader)):\n",
        "            data, target = data.to(device), target.to(device)\n",
        "            #Zero the gradients computed for each weight\n",
        "            optimizer.zero_grad()\n",
        "            #Forward pass your image through the network\n",
        "            output = model(data)\n",
        "            #Compute the loss\n",
        "            # print('here')\n",
        "            # print(target.shape)\n",
        "            # print(target.)\n",
        "            # print(output.shape)\n",
        "            output = torch.reshape(output, (output.shape[0],-1))\n",
        "           # print(output.shape)\n",
        "            loss = loss_fun(output, target)\n",
        "            #Backward pass through the network\n",
        "            loss.backward()\n",
        "            #Update the weights\n",
        "            optimizer.step()\n",
        "\n",
        "            train_loss.append(loss.item())\n",
        "            #Compute how many were correctly classified\n",
        "            predicted = output.argmax(1)\n",
        "            train_correct += (target==predicted).sum().cpu().item()\n",
        "        #Comput the test accuracy\n",
        "        test_loss = []\n",
        "        test_correct = 0\n",
        "        model.eval()\n",
        "        for data, target in test_loader:\n",
        "            data, target = data.to(device), target.to(device)\n",
        "            with torch.no_grad():\n",
        "                output = model(data)\n",
        "                output = torch.reshape(output, (output.shape[0],-1))\n",
        "            test_loss.append(loss_fun(output, target).cpu().item())\n",
        "            predicted = output.argmax(1)\n",
        "            test_correct += (target==predicted).sum().cpu().item()\n",
        "        out_dict['train_acc'].append(train_correct/len(trainset))\n",
        "        out_dict['test_acc'].append(test_correct/len(testset))\n",
        "        out_dict['train_loss'].append(np.mean(train_loss))\n",
        "        out_dict['test_loss'].append(np.mean(test_loss))\n",
        "        print(f\"Loss train: {np.mean(train_loss):.3f}\\t test: {np.mean(test_loss):.3f}\\t\",\n",
        "              f\"Accuracy train: {out_dict['train_acc'][-1]*100:.1f}%\\t test: {out_dict['test_acc'][-1]*100:.1f}%\")\n",
        "    return out_dict"
      ],
      "execution_count": null,
      "outputs": []
    },
    {
      "cell_type": "markdown",
      "metadata": {
        "id": "6D41SROYSCPI",
        "colab_type": "text"
      },
      "source": [
        "# Network"
      ]
    },
    {
      "cell_type": "code",
      "metadata": {
        "id": "Ct2jrcJRSE0s",
        "colab_type": "code",
        "colab": {}
      },
      "source": [
        "class Network(nn.Module):\n",
        "    def __init__(self):\n",
        "        super(Network, self).__init__()\n",
        "\n",
        "        self.convolutional = nn.Sequential(\n",
        "            nn.Conv2d(3, 20, kernel_size = 5, padding = 0), #28*28*20\n",
        "            nn.ReLU(),\n",
        "            nn.Dropout(0.2),\n",
        "\n",
        "            nn.MaxPool2d(2,stride=2),\n",
        "            nn.BatchNorm2d(num_features=20),\n",
        "\n",
        "            nn.Conv2d(20, 30 ,kernel_size = 3, padding = 0), #12*12*30\n",
        "            nn.ReLU(),\n",
        "            nn.Dropout(0.2),\n",
        "            \n",
        "            nn.MaxPool2d(2), #the size is 6*6*16\n",
        "            nn.BatchNorm2d(num_features=30),\n",
        "       \n",
        "            nn.Conv2d(30, 300 ,kernel_size = 6, padding = 0),#1*1*30\n",
        "            nn.ReLU(),\n",
        "\n",
        "            nn.Conv2d(1*1*300 , 11 ,kernel_size = 1, padding = 0),\n",
        "            nn.Softmax(dim=1),\n",
        "\n",
        "            )\n",
        "\n",
        "    def forward(self, x):\n",
        "\n",
        "      x = self.convolutional(x)\n",
        "      #reshape x so it becomes flat, except for the first dimension (which is the minibatch)\n",
        "    #  x = x.view(x.size(0), -1)\n",
        "      #...\n",
        "      return x"
      ],
      "execution_count": null,
      "outputs": []
    },
    {
      "cell_type": "code",
      "metadata": {
        "id": "gWityYQiSsny",
        "colab_type": "code",
        "colab": {}
      },
      "source": [
        "model = Network()\n",
        "model.to(device)\n",
        "#Initialize the optimizer\n",
        "\n",
        "#optimizer = torch.optim.SGD(model.parameters(), lr=0.01)\n",
        "optimizer = torch.optim.Adam(model.parameters(), lr=0.0001, weight_decay=0.1)"
      ],
      "execution_count": null,
      "outputs": []
    },
    {
      "cell_type": "code",
      "metadata": {
        "id": "se2bv6mhSthb",
        "colab_type": "code",
        "colab": {
          "base_uri": "https://localhost:8080/",
          "height": 396,
          "referenced_widgets": [
            "0134faaa7bc64433832290e160407739",
            "d9bdbfb7072041bd9a7dc8bc3489a66f",
            "c236e5998ce24fa197ae25fe79a55a1e",
            "92d7f6298475477298d6e12ca189f622",
            "59acf3f2772b4baaa22933e83dd892ea",
            "5a712382659e42319ebb6c1432ce6df0",
            "ce8ae89a23e64d698be90704ba243ad6",
            "c5ab0eafc9d649988b1872e4c7f60d5d",
            "21effc5510764bed8ffa684d64a695c6",
            "47b9f4baf223436c84220cc08c38f998",
            "704ee8ffa2be40fdb802ac5b62372552",
            "cd31a74cc4314c4585a6b6bf69064158",
            "c71f2c34d44c4e50bf0dc26497c49c83",
            "2111b02fc0ad45f7a58fa535dc90edaf",
            "6fc3fec64bbe427e9aa506a18e71a050",
            "f85ea3dceb724d66881e2a3f211f0534",
            "033c566ab61241c2953d7b31e95f2767",
            "0319e30a5ea04e62aeecda22ada3d59f",
            "964f3bb94e4a44e79a73407cc7759355",
            "01e34c3b52704b839c44e30b1c19205c",
            "be2f07a8482947288b2b01f96029bb7a",
            "027a2c2e8e254a0cb540273788edfcfb",
            "acd6eeca188a4dc79271a1c17690d431",
            "0328c4ab4c264ce9a83d3c3d64641a7b",
            "59878476b56743929042b3f756c1f84f",
            "660eb21663f54fe198038224f795e43b",
            "e55b227854a64c85b6d5d3a0f1df7d9f",
            "0eb9e5c911014984a187c5045feb9a57",
            "68b14356dc084610b0900a1de5aca48f",
            "36796ee3ead64760a4402ed24c81e9b1",
            "3956934b36ee4626930a7c4b677044a0",
            "88f7df94413d4255830663c5151e3b2e",
            "d5b23ea9a5eb4a1dba29b5ac77d7fe5b",
            "63ab07d8871b47e882459e67da601474",
            "791ab3dfbbf44cd28005140c60c1164a",
            "595617feef3c475493f9b614a528fe00",
            "49efaaa4377744f0af0eee62e5927e89",
            "dd4f049a602044cb8fe0d44617392eae",
            "088dc90c0cb24fa881ddd99cc023e4db",
            "0983747fc4e64fe6bc100d81ab19248c",
            "ae118402c132402fa298773bb47c382d",
            "b782b6abcfbb423492a4429078c7c239",
            "d73f554d1cdf44eab5eab84be5e8190b",
            "d058e9d28d0442eaaca583ce76519535",
            "29b64176a57a47cebeae9a09b996e1c6",
            "301c9f24483f4b23bd7d2eebb1bf10b9",
            "145debae6b2d4686a471b28ecb06e8be",
            "72623b1ab228497a97aadcb05ab3fc83"
          ]
        },
        "outputId": "9fd483ba-264c-4ac0-b1e0-f335e9c694f5"
      },
      "source": [
        "out = train(model, optimizer,5)"
      ],
      "execution_count": null,
      "outputs": [
        {
          "output_type": "display_data",
          "data": {
            "application/vnd.jupyter.widget-view+json": {
              "model_id": "0134faaa7bc64433832290e160407739",
              "version_minor": 0,
              "version_major": 2
            },
            "text/plain": [
              "HBox(children=(FloatProgress(value=0.0, max=5.0), HTML(value='')))"
            ]
          },
          "metadata": {
            "tags": []
          }
        },
        {
          "output_type": "display_data",
          "data": {
            "application/vnd.jupyter.widget-view+json": {
              "model_id": "21effc5510764bed8ffa684d64a695c6",
              "version_minor": 0,
              "version_major": 2
            },
            "text/plain": [
              "HBox(children=(FloatProgress(value=0.0, max=1926.0), HTML(value='')))"
            ]
          },
          "metadata": {
            "tags": []
          }
        },
        {
          "output_type": "stream",
          "text": [
            "\n",
            "Loss train: 0.856\t test: 0.859\t Accuracy train: 75.9%\t test: 77.7%\n"
          ],
          "name": "stdout"
        },
        {
          "output_type": "display_data",
          "data": {
            "application/vnd.jupyter.widget-view+json": {
              "model_id": "033c566ab61241c2953d7b31e95f2767",
              "version_minor": 0,
              "version_major": 2
            },
            "text/plain": [
              "HBox(children=(FloatProgress(value=0.0, max=1926.0), HTML(value='')))"
            ]
          },
          "metadata": {
            "tags": []
          }
        },
        {
          "output_type": "stream",
          "text": [
            "\n",
            "Loss train: 0.561\t test: 0.750\t Accuracy train: 86.5%\t test: 82.9%\n"
          ],
          "name": "stdout"
        },
        {
          "output_type": "display_data",
          "data": {
            "application/vnd.jupyter.widget-view+json": {
              "model_id": "59878476b56743929042b3f756c1f84f",
              "version_minor": 0,
              "version_major": 2
            },
            "text/plain": [
              "HBox(children=(FloatProgress(value=0.0, max=1926.0), HTML(value='')))"
            ]
          },
          "metadata": {
            "tags": []
          }
        },
        {
          "output_type": "stream",
          "text": [
            "\n",
            "Loss train: 0.556\t test: 0.812\t Accuracy train: 87.2%\t test: 82.3%\n"
          ],
          "name": "stdout"
        },
        {
          "output_type": "display_data",
          "data": {
            "application/vnd.jupyter.widget-view+json": {
              "model_id": "d5b23ea9a5eb4a1dba29b5ac77d7fe5b",
              "version_minor": 0,
              "version_major": 2
            },
            "text/plain": [
              "HBox(children=(FloatProgress(value=0.0, max=1926.0), HTML(value='')))"
            ]
          },
          "metadata": {
            "tags": []
          }
        },
        {
          "output_type": "stream",
          "text": [
            "\n",
            "Loss train: 0.588\t test: 0.866\t Accuracy train: 86.9%\t test: 79.6%\n"
          ],
          "name": "stdout"
        },
        {
          "output_type": "display_data",
          "data": {
            "application/vnd.jupyter.widget-view+json": {
              "model_id": "ae118402c132402fa298773bb47c382d",
              "version_minor": 0,
              "version_major": 2
            },
            "text/plain": [
              "HBox(children=(FloatProgress(value=0.0, max=1926.0), HTML(value='')))"
            ]
          },
          "metadata": {
            "tags": []
          }
        },
        {
          "output_type": "stream",
          "text": [
            "\n",
            "Loss train: 0.618\t test: 0.916\t Accuracy train: 86.2%\t test: 79.6%\n",
            "\n"
          ],
          "name": "stdout"
        }
      ]
    },
    {
      "cell_type": "markdown",
      "metadata": {
        "id": "cvQYH5_Nq2mw",
        "colab_type": "text"
      },
      "source": [
        "# data loader for actual size data\n",
        "\n",
        "\n",
        "\n"
      ]
    },
    {
      "cell_type": "code",
      "metadata": {
        "id": "znsBqVt6rIFF",
        "colab_type": "code",
        "colab": {}
      },
      "source": [
        "class SVHN(torch.utils.data.Dataset):\n",
        "    def __init__(self, transform, data_path='SVHN/test'):\n",
        "        'Initialization'\n",
        "        self.transform = transform\n",
        "        self.image_paths = glob.glob(data_path + '/*.png')\n",
        "       # print(self.image_paths)\n",
        "        \n",
        "    def __len__(self):\n",
        "        'Returns the total number of samples'\n",
        "        return len(self.image_paths)\n",
        "\n",
        "    def __getitem__(self, idx):\n",
        "        'Generates one sample of data'\n",
        "        image_path = self.image_paths[idx]\n",
        "       # print(image_path)\n",
        "        image = Image.open(image_path)\n",
        "        c = os.path.split(os.path.split(image_path)[0])[1]\n",
        "       # y = self.name_to_label[c]\n",
        "        X = self.transform(image)\n",
        "        return X"
      ],
      "execution_count": null,
      "outputs": []
    },
    {
      "cell_type": "code",
      "metadata": {
        "id": "OxNgH3nlrH9M",
        "colab_type": "code",
        "colab": {}
      },
      "source": [
        "\n",
        "\n",
        "window_transform = transforms.Compose([\n",
        "                                    transforms.ToTensor()])\n",
        "\n",
        "batch_size = 1\n",
        "\n",
        "window_testset = SVHN( transform=window_transform)\n",
        "window_loader = DataLoader(window_testset, batch_size=batch_size, shuffle=False, num_workers=3)"
      ],
      "execution_count": null,
      "outputs": []
    },
    {
      "cell_type": "code",
      "metadata": {
        "id": "lmKlz7V7rH1J",
        "colab_type": "code",
        "colab": {
          "base_uri": "https://localhost:8080/",
          "height": 408
        },
        "outputId": "8af3a03c-ebc5-4dbd-84d6-46dd17dc1439"
      },
      "source": [
        "next(iter(window_loader))"
      ],
      "execution_count": null,
      "outputs": [
        {
          "output_type": "execute_result",
          "data": {
            "text/plain": [
              "tensor([[[[0.6784, 0.6706, 0.6588,  ..., 0.2471, 0.2471, 0.9961],\n",
              "          [0.7843, 0.7843, 0.7725,  ..., 0.2745, 0.2667, 0.9961],\n",
              "          [0.7882, 0.7882, 0.7882,  ..., 0.3176, 0.3137, 0.9961],\n",
              "          ...,\n",
              "          [0.7765, 0.7765, 0.7765,  ..., 0.2000, 0.2314, 0.9882],\n",
              "          [0.7608, 0.7608, 0.7608,  ..., 0.2235, 0.2549, 0.9882],\n",
              "          [0.7216, 0.7216, 0.7216,  ..., 0.2431, 0.2745, 0.9961]],\n",
              "\n",
              "         [[0.5961, 0.5882, 0.5804,  ..., 0.2588, 0.2549, 1.0000],\n",
              "          [0.6941, 0.6941, 0.6941,  ..., 0.2863, 0.2784, 1.0000],\n",
              "          [0.7020, 0.7020, 0.6941,  ..., 0.3294, 0.3255, 1.0000],\n",
              "          ...,\n",
              "          [0.6627, 0.6627, 0.6627,  ..., 0.2314, 0.2510, 1.0000],\n",
              "          [0.6588, 0.6588, 0.6588,  ..., 0.2471, 0.2706, 1.0000],\n",
              "          [0.6510, 0.6510, 0.6549,  ..., 0.2510, 0.2824, 1.0000]],\n",
              "\n",
              "         [[0.2392, 0.2314, 0.2314,  ..., 0.2235, 0.2353, 0.9843],\n",
              "          [0.3176, 0.3176, 0.3216,  ..., 0.2510, 0.2510, 0.9843],\n",
              "          [0.2667, 0.2667, 0.2706,  ..., 0.2941, 0.2980, 0.9804],\n",
              "          ...,\n",
              "          [0.1294, 0.1294, 0.1294,  ..., 0.2431, 0.2627, 1.0000],\n",
              "          [0.1922, 0.1922, 0.1843,  ..., 0.2392, 0.2667, 1.0000],\n",
              "          [0.3137, 0.3137, 0.3098,  ..., 0.2314, 0.2706, 0.9922]]]])"
            ]
          },
          "metadata": {
            "tags": []
          },
          "execution_count": 11
        }
      ]
    },
    {
      "cell_type": "markdown",
      "metadata": {
        "id": "s5APwQB3rvbg",
        "colab_type": "text"
      },
      "source": [
        "# window"
      ]
    },
    {
      "cell_type": "code",
      "metadata": {
        "id": "JDeE34wXrHst",
        "colab_type": "code",
        "colab": {}
      },
      "source": [
        "def window(model):\n",
        "    def loss_fun(output, target):\n",
        "        return F.nll_loss(torch.log(output), target)\n",
        "\n",
        "      #Comput the test accuracy\n",
        "    test_loss = []\n",
        "    test_correct = 0\n",
        "    model.eval()\n",
        "    for data in window_loader:\n",
        "      print('new image')\n",
        "      data= data.to(device)\n",
        "      \n",
        "      # print(data.size())\n",
        "      with torch.no_grad():\n",
        "        try:\n",
        "          print(data.size())\n",
        "          output = model(data)\n",
        "          print(output.size())\n",
        "          windows = []\n",
        "          classes = []\n",
        "          for IM in range(output.size()[1]):\n",
        "            out = output[:, IM, :, :]\n",
        "            # print('out.argmax()  ' , out.argmax(2).shape)\n",
        "            # print(' torch.nax ' , torch.max(out))\n",
        "            # print(out)\n",
        "            if(torch.max(out) > 0.6):\n",
        "              classes.append(IM)\n",
        "              windows.append(out)\n",
        "              print(IM)\n",
        "        except:\n",
        "          continue\n"
      ],
      "execution_count": null,
      "outputs": []
    },
    {
      "cell_type": "code",
      "metadata": {
        "id": "U5B7lHokrHgy",
        "colab_type": "code",
        "colab": {}
      },
      "source": [
        "window(model)"
      ],
      "execution_count": null,
      "outputs": []
    },
    {
      "cell_type": "code",
      "metadata": {
        "id": "CqyjaF0xrHS9",
        "colab_type": "code",
        "colab": {}
      },
      "source": [
        ""
      ],
      "execution_count": null,
      "outputs": []
    },
    {
      "cell_type": "markdown",
      "metadata": {
        "id": "ki2kwWsmKowD",
        "colab_type": "text"
      },
      "source": [
        "# try for one"
      ]
    },
    {
      "cell_type": "code",
      "metadata": {
        "id": "3Ia4nvwAMK-J",
        "colab_type": "code",
        "colab": {}
      },
      "source": [
        "data_path = 'SVHN/train'\n",
        "\n",
        "temp = glob.glob(data_path + '/*.png')\n",
        "batch_size = 1\n",
        "\n",
        "temp_loader = DataLoader(temp, batch_size=batch_size, shuffle=True, num_workers=3)"
      ],
      "execution_count": null,
      "outputs": []
    },
    {
      "cell_type": "code",
      "metadata": {
        "id": "gmCUGbO0OswU",
        "colab_type": "code",
        "colab": {
          "base_uri": "https://localhost:8080/",
          "height": 258
        },
        "outputId": "4f91eace-c2bc-4d43-e278-e8567cb0b81d"
      },
      "source": [
        "temp = next(iter(temp_loader))\n",
        "print(temp)\n",
        "\n",
        "temp2 = torch.tensor(np.array(Image.open(temp[0])))\n",
        "print(temp2.shape)\n",
        "\n",
        "plt.imshow(temp2)"
      ],
      "execution_count": null,
      "outputs": [
        {
          "output_type": "stream",
          "text": [
            "['SVHN/train/20169.png']\n",
            "torch.Size([33, 70, 3])\n"
          ],
          "name": "stdout"
        },
        {
          "output_type": "execute_result",
          "data": {
            "text/plain": [
              "<matplotlib.image.AxesImage at 0x7f14462bed30>"
            ]
          },
          "metadata": {
            "tags": []
          },
          "execution_count": 75
        },
        {
          "output_type": "display_data",
          "data": {
            "image/png": "[encoded data removed]",
            "text/plain": [
              "<Figure size 432x288 with 1 Axes>"
            ]
          },
          "metadata": {
            "tags": [],
            "needs_background": "light"
          }
        }
      ]
    },
    {
      "cell_type": "code",
      "metadata": {
        "id": "bgpQgMp4Rx3B",
        "colab_type": "code",
        "colab": {
          "base_uri": "https://localhost:8080/",
          "height": 180
        },
        "outputId": "532ac9a6-ee90-413c-e9bb-3c04963eda01"
      },
      "source": [
        "temp3 = temp2.permute((2,0,1)).unsqueeze(0).type(torch.cuda.FloatTensor)\n",
        "temp3.shape"
      ],
      "execution_count": null,
      "outputs": [
        {
          "output_type": "error",
          "ename": "NameError",
          "evalue": "ignored",
          "traceback": [
            "\u001b[0;31m---------------------------------------------------------------------------\u001b[0m",
            "\u001b[0;31mNameError\u001b[0m                                 Traceback (most recent call last)",
            "\u001b[0;32m<ipython-input-2-3c45057e7d0a>\u001b[0m in \u001b[0;36m<module>\u001b[0;34m()\u001b[0m\n\u001b[0;32m----> 1\u001b[0;31m \u001b[0mtemp3\u001b[0m \u001b[0;34m=\u001b[0m \u001b[0mtemp2\u001b[0m\u001b[0;34m.\u001b[0m\u001b[0mpermute\u001b[0m\u001b[0;34m(\u001b[0m\u001b[0;34m(\u001b[0m\u001b[0;36m2\u001b[0m\u001b[0;34m,\u001b[0m\u001b[0;36m0\u001b[0m\u001b[0;34m,\u001b[0m\u001b[0;36m1\u001b[0m\u001b[0;34m)\u001b[0m\u001b[0;34m)\u001b[0m\u001b[0;34m.\u001b[0m\u001b[0munsqueeze\u001b[0m\u001b[0;34m(\u001b[0m\u001b[0;36m0\u001b[0m\u001b[0;34m)\u001b[0m\u001b[0;34m.\u001b[0m\u001b[0mtype\u001b[0m\u001b[0;34m(\u001b[0m\u001b[0mtorch\u001b[0m\u001b[0;34m.\u001b[0m\u001b[0mcuda\u001b[0m\u001b[0;34m.\u001b[0m\u001b[0mFloatTensor\u001b[0m\u001b[0;34m)\u001b[0m\u001b[0;34m\u001b[0m\u001b[0;34m\u001b[0m\u001b[0m\n\u001b[0m\u001b[1;32m      2\u001b[0m \u001b[0mtemp3\u001b[0m\u001b[0;34m.\u001b[0m\u001b[0mshape\u001b[0m\u001b[0;34m\u001b[0m\u001b[0;34m\u001b[0m\u001b[0m\n",
            "\u001b[0;31mNameError\u001b[0m: name 'temp2' is not defined"
          ]
        }
      ]
    },
    {
      "cell_type": "code",
      "metadata": {
        "id": "05p-6EHOmoqz",
        "colab_type": "code",
        "colab": {
          "base_uri": "https://localhost:8080/",
          "height": 204
        },
        "outputId": "effe9884-fb85-4126-d3b6-0d5157dd7cde"
      },
      "source": [
        "print(model(temp3.to(device)).shape)\n",
        "print(0, np.amax(model(temp3.to(device))[0][0].cpu().detach().numpy()))\n",
        "print(1, np.amax(model(temp3.to(device))[0][1].cpu().detach().numpy()))\n",
        "print(2, np.amax(model(temp3.to(device))[0][2].cpu().detach().numpy()))\n",
        "print(3, np.amax(model(temp3.to(device))[0][3].cpu().detach().numpy()))\n",
        "print(4, np.amax(model(temp3.to(device))[0][4].cpu().detach().numpy()))\n",
        "print(5, np.amax(model(temp3.to(device))[0][5].cpu().detach().numpy()))\n",
        "print(6, np.amax(model(temp3.to(device))[0][6].cpu().detach().numpy()))\n",
        "print(7, np.amax(model(temp3.to(device))[0][7].cpu().detach().numpy()))\n",
        "print(8, np.amax(model(temp3.to(device))[0][8].cpu().detach().numpy()))\n",
        "print(9, np.amax(model(temp3.to(device))[0][9].cpu().detach().numpy()))"
      ],
      "execution_count": null,
      "outputs": [
        {
          "output_type": "stream",
          "text": [
            "torch.Size([1, 11, 1, 10])\n",
            "0 0.9749531\n",
            "1 0.99968827\n",
            "2 0.06343373\n",
            "3 0.07030655\n",
            "4 0.06777282\n",
            "5 0.06159344\n",
            "6 0.24498865\n",
            "7 0.0605367\n",
            "8 0.07400352\n",
            "9 0.36754164\n"
          ],
          "name": "stdout"
        }
      ]
    },
    {
      "cell_type": "code",
      "metadata": {
        "id": "1d8HagUpJ1x1",
        "colab_type": "code",
        "colab": {
          "base_uri": "https://localhost:8080/",
          "height": 34
        },
        "outputId": "6054c2a5-feab-4787-a083-a37d782fa14d"
      },
      "source": [
        "out = model(temp3.to(device)).cpu().detach().numpy()\n",
        "out = out[0]\n",
        "\n",
        "y = out.shape[1]\n",
        "x = out.shape[2]\n",
        "\n",
        "for i in np.arange(10):\n",
        "  print(i)\n",
        "\n",
        "  for j in y:\n",
        "    for k in x:\n",
        "      if out[][][]\n",
        "\n",
        "out.shape\n"
      ],
      "execution_count": null,
      "outputs": [
        {
          "output_type": "execute_result",
          "data": {
            "text/plain": [
              "(11, 1, 10)"
            ]
          },
          "metadata": {
            "tags": []
          },
          "execution_count": 98
        }
      ]
    },
    {
      "cell_type": "code",
      "metadata": {
        "id": "2kHONDZap5Rq",
        "colab_type": "code",
        "colab": {
          "base_uri": "https://localhost:8080/",
          "height": 85
        },
        "outputId": "9078aedc-8aa8-43e7-f973-4fa21f5c1caa"
      },
      "source": [
        "np.set_printoptions(suppress=True)\n",
        "\n",
        "out = model(temp3.to(device))[0][3].cpu().detach().numpy()\n",
        "\n",
        "from numpy import unravel_index\n",
        "\n",
        "print('highest value in conv.:', np.amax(out))\n",
        "print('coordinates of highest value in conv.:',unravel_index(out.argmax(), out.shape))\n",
        "print('shape of conv.:',out.shape)\n",
        "print('shape of orig.:',temp2.permute((2,0,1)).numpy()[0].shape)\n",
        "#out"
      ],
      "execution_count": null,
      "outputs": [
        {
          "output_type": "stream",
          "text": [
            "highest value in conv.: 0.07030655\n",
            "coordinates of highest value in conv.: (0, 5)\n",
            "shape of conv.: (1, 10)\n",
            "shape of orig.: (33, 70)\n"
          ],
          "name": "stdout"
        }
      ]
    },
    {
      "cell_type": "code",
      "metadata": {
        "id": "8IKScB7GkeBP",
        "colab_type": "code",
        "colab": {
          "base_uri": "https://localhost:8080/",
          "height": 85
        },
        "outputId": "628d3832-4028-41c0-b726-66750b2348e0"
      },
      "source": [
        "out9 = model(temp3.to(device))[0][9].cpu().detach().numpy()\n",
        "#print(out9)\n",
        "\n",
        "print('highest value in conv.:', np.amax(out9))\n",
        "print('coordinates of highest value in conv.:',unravel_index(out.argmax(), out9.shape))\n",
        "print('shape of conv.:',out9.shape)\n",
        "print('shape of orig.:',temp2.permute((2,0,1)).numpy()[0].shape)\n",
        "#out"
      ],
      "execution_count": null,
      "outputs": [
        {
          "output_type": "stream",
          "text": [
            "highest value in conv.: 0.672119\n",
            "coordinates of highest value in conv.: (1, 10)\n",
            "shape of conv.: (3, 16)\n",
            "shape of orig.: (41, 92)\n"
          ],
          "name": "stdout"
        }
      ]
    },
    {
      "cell_type": "code",
      "metadata": {
        "id": "bHt9ckm9Qft8",
        "colab_type": "code",
        "colab": {
          "base_uri": "https://localhost:8080/",
          "height": 34
        },
        "outputId": "9b1d5acf-c43a-4a91-a7af-550939e0ff17"
      },
      "source": [
        "h_orig = temp2.permute((2,0,1)).numpy()[0].shape[0]\n",
        "w_orig = temp2.permute((2,0,1)).numpy()[0].shape[1]\n",
        "\n",
        "h_conv = out.shape[0]\n",
        "w_conv = out.shape[1]\n",
        "\n",
        "y_conv = unravel_index(out.argmax(), out.shape)[0]\n",
        "x_conv = unravel_index(out.argmax(), out.shape)[1]\n",
        "\n",
        "y_orig = int((h_orig / h_conv) * y_conv)\n",
        "x_orig = int((w_orig / w_conv) * x_conv)\n",
        "\n",
        "center = (y_orig, x_orig)\n",
        "\n",
        "center"
      ],
      "execution_count": null,
      "outputs": [
        {
          "output_type": "execute_result",
          "data": {
            "text/plain": [
              "(0, 28)"
            ]
          },
          "metadata": {
            "tags": []
          },
          "execution_count": 68
        }
      ]
    },
    {
      "cell_type": "code",
      "metadata": {
        "id": "RM3JmhKnC_ZF",
        "colab_type": "code",
        "colab": {
          "base_uri": "https://localhost:8080/",
          "height": 282
        },
        "outputId": "7cb84651-1e46-4c69-ef0e-efa666ecd344"
      },
      "source": [
        "plt.imshow(temp2)\n",
        "\n",
        "plt.plot(x_orig-12,y_orig-12,'ro') \n",
        "plt.plot(x_orig-12,y_orig+12,'ro') \n",
        "plt.plot(x_orig+12,y_orig-12,'ro') \n",
        "plt.plot(x_orig+12,y_orig+12,'ro') "
      ],
      "execution_count": null,
      "outputs": [
        {
          "output_type": "execute_result",
          "data": {
            "text/plain": [
              "[<matplotlib.lines.Line2D at 0x7f1490178ba8>]"
            ]
          },
          "metadata": {
            "tags": []
          },
          "execution_count": 69
        },
        {
          "output_type": "display_data",
          "data": {
            "image/png": "[encoded data removed]",
            "text/plain": [
              "<Figure size 432x288 with 1 Axes>"
            ]
          },
          "metadata": {
            "tags": [],
            "needs_background": "light"
          }
        }
      ]
    },
    {
      "cell_type": "code",
      "metadata": {
        "id": "UHSr1Jx4Ecvg",
        "colab_type": "code",
        "colab": {
          "base_uri": "https://localhost:8080/",
          "height": 239
        },
        "outputId": "000e3a59-8ed8-48fd-a891-45ca11d4d28d"
      },
      "source": [
        "plt.imshow(temp2)\n",
        "\n",
        "plt.plot(x_orig,y_orig,'ro') \n",
        "plt.plot(x_orig,y_orig+24,'ro') \n",
        "plt.plot(x_orig+24,y_orig,'ro') \n",
        "plt.plot(x_orig+24,y_orig+24,'ro') "
      ],
      "execution_count": null,
      "outputs": [
        {
          "output_type": "execute_result",
          "data": {
            "text/plain": [
              "[<matplotlib.lines.Line2D at 0x7f14467c0b70>]"
            ]
          },
          "metadata": {
            "tags": []
          },
          "execution_count": 71
        },
        {
          "output_type": "display_data",
          "data": {
            "image/png": "[encoded data removed]",
            "text/plain": [
              "<Figure size 432x288 with 1 Axes>"
            ]
          },
          "metadata": {
            "tags": [],
            "needs_background": "light"
          }
        }
      ]
    },
    {
      "cell_type": "code",
      "metadata": {
        "id": "wf5xdUE_bTTY",
        "colab_type": "code",
        "colab": {
          "base_uri": "https://localhost:8080/",
          "height": 85
        },
        "outputId": "c951858d-b741-4f3a-d972-0e17fd35b760"
      },
      "source": [
        "print(x_conv*4+19,y_conv*4+19) \n",
        "print(x_conv*4+19,y_conv*4+51) \n",
        "print(x_conv*4+51,y_conv*4+19) \n",
        "print(x_conv*4+51,y_conv*4+51) "
      ],
      "execution_count": null,
      "outputs": [
        {
          "output_type": "stream",
          "text": [
            "59 23\n",
            "59 55\n",
            "91 23\n",
            "91 55\n"
          ],
          "name": "stdout"
        }
      ]
    },
    {
      "cell_type": "code",
      "metadata": {
        "id": "vNW464Jf1LdZ",
        "colab_type": "code",
        "colab": {
          "base_uri": "https://localhost:8080/",
          "height": 366
        },
        "outputId": "230012db-1678-4dd8-9c8a-67b8070f65e6"
      },
      "source": [
        "images, labels = next(iter(train_loader))\n",
        "plt.figure(figsize=(20,10))\n",
        "\n",
        "for i in range(21):\n",
        "    plt.subplot(5,7,i+1)\n",
        "    plt.imshow(np.swapaxes(np.swapaxes(images[i].numpy(), 0, 2), 0, 1))\n",
        "    plt.title([0,1,2,3,4,5,6,7,8,9,10][labels[i].item()])\n",
        "    plt.axis('off')"
      ],
      "execution_count": null,
      "outputs": [
        {
          "output_type": "display_data",
          "data": {
            "image/png": "[encoded data removed]",
            "text/plain": [
              "<Figure size 1440x720 with 21 Axes>"
            ]
          },
          "metadata": {
            "tags": [],
            "needs_background": "light"
          }
        }
      ]
    }
  ]
}